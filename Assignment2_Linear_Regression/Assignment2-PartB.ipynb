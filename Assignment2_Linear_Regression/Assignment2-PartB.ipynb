{
 "cells": [
  {
   "cell_type": "markdown",
   "metadata": {},
   "source": [
    "# Linear Regression with Regularization"
   ]
  },
  {
   "cell_type": "markdown",
   "metadata": {},
   "source": [
    "In this notebook, you will create a **gradient descent** solver for **ridge regression** and **lasso regression** then compare it to the built-in libraries in `sklearn.linear_model`."
   ]
  },
  {
   "cell_type": "markdown",
   "metadata": {},
   "source": [
    "## Set up notebook and load data set"
   ]
  },
  {
   "cell_type": "markdown",
   "metadata": {},
   "source": [
    "After loading in some standard packages, we load synthetic data set consisting of data points `(x,y)`:\n",
    "* `x`: 100-dimensional vector whose coordinates are independent draws from a standard normal (Gaussian) distribution\n",
    "* `y`: response value given by `y = wx + e` where `w` is a target regression function and `e` is Gaussian noise. **`y` was generated using only 10 of the 100 features (which are unknown to you, at least for now!).**}"
   ]
  },
  {
   "cell_type": "code",
   "execution_count": 1,
   "metadata": {
    "pycharm": {
     "is_executing": false
    }
   },
   "outputs": [],
   "source": [
    "%matplotlib inline\n",
    "import numpy as np\n",
    "import matplotlib\n",
    "import matplotlib.pyplot as plt\n",
    "from sklearn import linear_model\n",
    "from sklearn.metrics import mean_squared_error\n",
    "matplotlib.rc('xtick', labelsize=14) \n",
    "matplotlib.rc('ytick', labelsize=14)"
   ]
  },
  {
   "cell_type": "markdown",
   "metadata": {},
   "source": [
    "This next snippet of code loads in the dataset. There are 100 data points for train and test set respectively, each with 100 predictor variables (which we'll denote `x`) and one response variable (which we'll denote `y`).\n",
    "\n",
    "Make sure the files `'trainx.csv'`,`'trainy.csv'`,`'testx.csv'`, and `'testy.csv'` are in the same directory as this notebook.\n"
   ]
  },
  {
   "cell_type": "code",
   "execution_count": 22,
   "metadata": {
    "pycharm": {
     "is_executing": false
    }
   },
   "outputs": [
    {
     "name": "stdout",
     "text": [
      "trainx (100, 100) \ntrainy (1, 100) \ntestx (100, 100) \ntesty (1, 100)\n"
     ],
     "output_type": "stream"
    }
   ],
   "source": [
    "from sklearn.preprocessing import StandardScaler, OneHotEncoder\n",
    "\n",
    "trainx = np.genfromtxt('trainx.csv', delimiter=',')\n",
    "testx = np.genfromtxt('testx.csv', delimiter=',')\n",
    "trainy = np.genfromtxt('trainy.csv', delimiter=',')[np.newaxis]\n",
    "testy = np.genfromtxt('testy.csv', delimiter=',')[np.newaxis]\n",
    "\n",
    "# scaling\n",
    "trainy = StandardScaler().fit(trainy).transform(trainy)\n",
    "trainx = StandardScaler().fit(trainx).transform(trainx)\n",
    "testy = StandardScaler().fit(testy).transform(testy)\n",
    "testx = StandardScaler().fit(testx).transform(testx)\n",
    "\n",
    "\n",
    "print('trainx', trainx.shape,\n",
    "      '\\ntrainy', trainy.shape,\n",
    "      '\\ntestx', testx.shape,\n",
    "      '\\ntesty', testy.shape)"
   ]
  },
  {
   "cell_type": "markdown",
   "metadata": {},
   "source": [
    "## 1. Gradient descent solver for ridge regression"
   ]
  },
  {
   "cell_type": "markdown",
   "metadata": {},
   "source": [
    "<font color=\"magenta\">**For you to do:**</font> Define a procedure, **ridge_regression_GD**, that uses gradient descent to solve the ridge regression problem. It is invoked as follows:\n",
    "\n",
    "* `w,b,losses = ridge_regression_GD(x,y,C)`\n",
    "\n",
    "Here, the input consists of:\n",
    "* training data `trainx, trainy`, where `trainx` and `trainy` are numpy arrays of dimension `m`-by-`n` and `m`, respectively (if there are `m` training points and `n` features)\n",
    "* regularization constant `C`, we normally use the term **lambda**.\n",
    "\n",
    "The function should find the `n`-dimensional vector `w` and offset `b` that minimize the MSE loss function (with regularization constant `C`), and return:\n",
    "* `w` and `b`\n",
    "* `losses`, an array containing the MSE loss at each iteration\n",
    "\n",
    "<font color=\"magenta\">Advice:</font> First figure out the derivative, which has a relatively simple form. Next, when implementing gradient descent, think carefully about two issues.\n",
    "\n",
    "1. What is the step size (learning rate)?\n",
    "2. When has the procedure converged?\n",
    "\n",
    "Take the time to experiment with different ways of handling these.\n",
    "\n",
    "**Note:** You can use additional methods as helpers if you feel the need."
   ]
  },
  {
   "cell_type": "code",
   "execution_count": 23,
   "metadata": {
    "pycharm": {
     "is_executing": false
    }
   },
   "outputs": [],
   "source": [
    "# m: the number of samples\n",
    "\n",
    "def concat_bias_column_as_feature(X):\n",
    "    \"\"\"@param X - the training featuers m by n, appends a bias column as 1's to the beginning\"\"\"\n",
    "    return np.hstack((np.ones(X.shape[0])[np.newaxis].T, X)) # adding a column of 1's (this is for the bias)\n",
    "\n",
    "def predict(X, W):\n",
    "    return np.dot(X, W)\n",
    "\n",
    "def loss(X, Y, W, C=0, ridge=False):\n",
    "    \"\"\"\n",
    "    @param c - the regularization constant\n",
    "    @param ridge - if True, will compute \"Ridge\" regularization\n",
    "    \"\"\"\n",
    "    m = X.shape[1]\n",
    "    Y_hat = predict(X, W)\n",
    "    reg_term = np.linalg.norm(W) ** 2 if ridge else np.linalg.norm(W)\n",
    "\n",
    "    return 1.0/2.0 * np.mean((Y - Y_hat) ** 2) + C * reg_term / m\n",
    "\n",
    "\n",
    "def loss_derivative(X, Y, W, C=0, ridge=False):\n",
    "    m = X.shape[1]\n",
    "    reg_term = 2 * np.linalg.norm(W) if ridge else 1\n",
    "    \n",
    "    return -1.0 / m * (np.sum(np.dot(Y - predict(X, W), X)) + C * reg_term)\n"
   ]
  },
  {
   "cell_type": "code",
   "execution_count": 24,
   "metadata": {
    "pycharm": {
     "is_executing": false
    }
   },
   "outputs": [],
   "source": [
    "def regression_GD_general(x, y, C=0, ridge=False, n_epochs=1e4, lr=0.001, epsilon=1e-14, random_state=None):\n",
    "    \"\"\"\n",
    "    :param x: training data points\n",
    "    :param y: training labels\n",
    "    :param C: regularization constant\n",
    "    :param ridge: boolean, True if ridge regularization, else Lasso\n",
    "    :param n_epochs: \n",
    "    :param lr: learning rate\n",
    "    :param epsilon: stop when delta_loss < epsilon\n",
    "    :param random_state: random seed for weight initialization\n",
    "    :return: w, b, training_losses\n",
    "    \"\"\"\n",
    "    # adding the bias in the beginning of the X (to make things simpler)\n",
    "    X = concat_bias_column_as_feature(x)\n",
    "    \n",
    "    np.random.seed(random_state) # setting random seed for weight initialization\n",
    "    # creating a weights vector that contains the bias as well\n",
    "    W = np.random.randn(X.shape[1])\n",
    "    Y = y\n",
    "    m = X.shape[1]\n",
    "    \n",
    "#     print(\"X:\", X.shape)\n",
    "#     print(\"Y:\", Y.shape)\n",
    "#     print(\"W:\", W.shape)\n",
    "\n",
    "    last_loss = np.Inf\n",
    "    training_losses = []\n",
    "    for e in range(int(n_epochs)):\n",
    "        delta_W = loss_derivative(X, y, W, C=C, ridge=ridge)\n",
    "#         print('delta_W',delta_W.shape)\n",
    "        err = loss(X, y, W, C=C, ridge=ridge)\n",
    "        \n",
    "        W = W - lr * ( delta_W)  # updating weights\n",
    "\n",
    "        # print(\"{}: Loss={}\".format(e, err))\n",
    "        # the bellow is just logging/printing stuff\n",
    "        training_losses.append(err)\n",
    "        if np.abs(err - last_loss) < epsilon:\n",
    "            print(f'STOPPING EARLY at epoch {e} (epsilon={epsilon})')\n",
    "            break\n",
    "        else:\n",
    "            last_loss = err\n",
    "\n",
    "    w, b = W[1:], W[0] # splitting the joint weights:bias, into 2 variables\n",
    "    \n",
    "    print('final loss={:.5f}'.format(training_losses[-1]))\n",
    "    return w, b, training_losses\n"
   ]
  },
  {
   "cell_type": "code",
   "execution_count": 25,
   "metadata": {
    "pycharm": {
     "is_executing": false
    }
   },
   "outputs": [],
   "source": [
    "def ridge_regression_GD(x, y, C, **kwargs):\n",
    "    return regression_GD_general(x, y, C, ridge=True, **kwargs)"
   ]
  },
  {
   "cell_type": "markdown",
   "metadata": {},
   "source": [
    "Let's try it out and print a graph of the loss values during the optimization process."
   ]
  },
  {
   "cell_type": "code",
   "execution_count": 27,
   "metadata": {
    "pycharm": {
     "is_executing": false
    }
   },
   "outputs": [
    {
     "name": "stdout",
     "text": [
      "STOPPING EARLY at epoch 254 (epsilon=1e-14)\nfinal loss=47.92181\n",
      "|W|=10.47\n"
     ],
     "output_type": "stream"
    },
    {
     "data": {
      "text/plain": "<Figure size 432x288 with 1 Axes>",
      "image/png": "[encoded data removed]"
     },
     "metadata": {
      "needs_background": "light"
     },
     "output_type": "display_data"
    }
   ],
   "source": [
    "# Set regularization constant\n",
    "C = 1.0 # you can try different values for C\n",
    "# Run gradient descent solver\n",
    "w, b, losses = ridge_regression_GD(trainx, trainy, C, n_epochs=1e4, lr=0.001, epsilon=1e-14, random_state=9)\n",
    "# Plot the losses\n",
    "plt.plot(losses,'r')\n",
    "plt.xlabel('Iterations', fontsize=14)\n",
    "plt.ylabel('Loss', fontsize=14)\n",
    "plt.show()\n",
    "\n",
    "print('|W|={:.2f}'.format(np.linalg.norm(w)))\n",
    "# print('W=', w)"
   ]
  },
  {
   "cell_type": "markdown",
   "metadata": {},
   "source": [
    "## 2. Evaluate the gradient descent solver for ridge regression"
   ]
  },
  {
   "cell_type": "markdown",
   "metadata": {},
   "source": [
    "Now let's compare the regressor found by your gradient descent procedure to that returned by the built-in ridge regression solver in `sklearn`. We will compare them by their resulting MSE values. We will also compare the results of the built-in linear regression (without regularization)."
   ]
  },
  {
   "cell_type": "markdown",
   "metadata": {},
   "source": [
    "Complete the following code to compute the MSE value given `w`, `b`, `x`, and `y`."
   ]
  },
  {
   "cell_type": "code",
   "execution_count": 28,
   "metadata": {
    "pycharm": {
     "is_executing": false
    }
   },
   "outputs": [],
   "source": [
    "def compute_mse(w,b,x,y):\n",
    "    ### START CODE HERE ###\n",
    "    X = concat_bias_column_as_feature(x) # adding the bias in the beginning of the X (to make things simpler)\n",
    "    W = np.hstack((b, w))\n",
    "    m = X.shape[1]\n",
    "    \n",
    "    Y_hat = predict(X, W)\n",
    "    return 1.0/(2.0 * m) * np.sum((y - Y_hat) ** 2)\n",
    "    ### END CODE HERE ###"
   ]
  },
  {
   "cell_type": "code",
   "execution_count": 60,
   "metadata": {
    "pycharm": {
     "is_executing": false
    }
   },
   "outputs": [
    {
     "name": "stdout",
     "output_type": "stream",
     "text": [
      "STOPPING EARLY at epoch 298 (epsilon=1e-14)\n",
      "final loss=48.79334\n",
      "MSE of built-in linear regression(training):                     2.263924717762967e-28\n",
      "MSE of gradient descent solver for ridge regression (training):  47.15829064559563\n",
      "MSE of built-in solver for ridge regression (training):          0.03480412397500035\n",
      "MSE of built-in linear regression(test):                         50.89682328293875\n",
      "MSE of gradient descent solver for ridge regression (test):      54.6861607411059\n",
      "MSE of built-in solver for ridge regression (test):              4.5901649916210205\n"
     ]
    }
   ],
   "source": [
    "# Set regularization constant\n",
    "C = 1.0 # you can change it\n",
    "# Run gradient descent solver and compute its MSE\n",
    "w, b, losses = ridge_regression_GD(trainx, trainy, C, n_epochs=1000, lr=0.001, random_state=9)\n",
    "# Use built-in routine for linear regression and compute MSE\n",
    "lin_regr = linear_model.LinearRegression()\n",
    "lin_regr.fit(trainx, trainy)\n",
    "# Use built-in routine for ridge regression and compute MSE\n",
    "ridge_regr = linear_model.Ridge(alpha=1.0) # you can try different values\n",
    "ridge_regr.fit(trainx, trainy)\n",
    "# Print MSE values\n",
    "print(\"MSE of built-in linear regression(training):                    \", mean_squared_error(lin_regr.predict(trainx), trainy))\n",
    "print(\"MSE of gradient descent solver for ridge regression (training): \", compute_mse(w,b,trainx, trainy))\n",
    "print(\"MSE of built-in solver for ridge regression (training):         \", mean_squared_error(ridge_regr.predict(trainx), trainy))\n",
    "print(\"MSE of built-in linear regression(test):                        \", mean_squared_error(lin_regr.predict(testx), testy))\n",
    "print(\"MSE of gradient descent solver for ridge regression (test):     \", compute_mse(w,b,testx, testy))\n",
    "print(\"MSE of built-in solver for ridge regression (test):             \", mean_squared_error(ridge_regr.predict(testx), testy))"
   ]
  },
  {
   "cell_type": "markdown",
   "metadata": {},
   "source": [
    "## 3. Gradient descent solver for lasso regression"
   ]
  },
  {
   "cell_type": "markdown",
   "metadata": {},
   "source": [
    "<font color=\"magenta\">**For you to do:**</font> Define a procedure, **lasso_regression_GD**, that uses gradient descent to solve the lasso regression problem. It is invoked as follows:\n",
    "\n",
    "* `w,b,losses = lasso_regression_GD(x,y,C)`\n",
    "\n",
    "Here, the input consists of:\n",
    "* training data `trainx, trainy`, where `trainx` and `trainy` are numpy arrays of dimension `m`-by-`n` and `m`, respectively (if there are `m` training points and `n` features)\n",
    "* regularization constant `C`, we normally use the term **lambda**.\n",
    "\n",
    "The function should find the `n`-dimensional vector `w` and offset `b` that minimize the MSE loss function (with regularization constant `C`), and return:\n",
    "* `w` and `b`\n",
    "* `losses`, an array containing the MSE loss at each iteration\n",
    "\n",
    "<font color=\"magenta\">Advice:</font> First figure out the derivative, which has a relatively simple form. Next, when implementing gradient descent, think carefully about two issues.\n",
    "\n",
    "1. What is the step size (learning rate)?\n",
    "2. When has the procedure converged?\n",
    "\n",
    "Take the time to experiment with different ways of handling these.\n",
    "\n",
    "**Note:** You can use additional methods as helpers if you feel the need."
   ]
  },
  {
   "cell_type": "code",
   "execution_count": 61,
   "metadata": {
    "pycharm": {
     "is_executing": false
    }
   },
   "outputs": [],
   "source": [
    "def lasso_regression_GD(x,y,C, **kwargs):\n",
    "    return regression_GD_general(x, y, C, ridge=False, **kwargs)"
   ]
  },
  {
   "cell_type": "markdown",
   "metadata": {},
   "source": [
    "Let's try it out and print a graph of the loss values during the optimization process."
   ]
  },
  {
   "cell_type": "code",
   "execution_count": 62,
   "metadata": {
    "pycharm": {
     "is_executing": false
    }
   },
   "outputs": [
    {
     "name": "stdout",
     "output_type": "stream",
     "text": [
      "STOPPING EARLY at epoch 261 (epsilon=1e-14)\n",
      "final loss=47.73688\n"
     ]
    },
    {
     "data": {
      "image/png": "[encoded data removed]",
      "text/plain": [
       "<Figure size 432x288 with 1 Axes>"
      ]
     },
     "metadata": {
      "needs_background": "light"
     },
     "output_type": "display_data"
    },
    {
     "name": "stdout",
     "output_type": "stream",
     "text": [
      "|W|=10.83\n",
      "Features that have been killed by lasso (|w| <= 0.06) (as indexes):\n",
      " (array([ 0,  7, 33, 62, 80], dtype=int64),)\n"
     ]
    }
   ],
   "source": [
    "# Set regularization constant\n",
    "C = 1.0 # you can try different values for C\n",
    "# Run gradient descent solver\n",
    "w, b, losses = lasso_regression_GD(trainx,trainy,C, lr=0.001, random_state=9)\n",
    "# Plot the losses\n",
    "plt.plot(losses,'r')\n",
    "plt.xlabel('Iterations', fontsize=14)\n",
    "plt.ylabel('Loss', fontsize=14)\n",
    "plt.show()\n",
    "\n",
    "print('|W|={:.2f}'.format(np.linalg.norm(w)))\n",
    "# print('W=', w)\n",
    "# sorted_args = np.argsort(np.abs(w))\n",
    "thr = 0.06\n",
    "print(f'Features that have been killed by lasso (|w| <= {thr}) (as indexes):\\n', np.where(np.abs(w) <= thr) )"
   ]
  },
  {
   "cell_type": "markdown",
   "metadata": {},
   "source": [
    "## 4. Evaluate the gradient descent solver for lasso regression"
   ]
  },
  {
   "cell_type": "markdown",
   "metadata": {},
   "source": [
    "Now let's compare the regressor found by your gradient descent procedure to that returned by the built-in ridge regression solver in `sklearn`. We will compare them by their resulting MSE values."
   ]
  },
  {
   "cell_type": "code",
   "execution_count": 63,
   "metadata": {
    "pycharm": {
     "is_executing": false
    },
    "scrolled": false
   },
   "outputs": [
    {
     "name": "stdout",
     "output_type": "stream",
     "text": [
      "STOPPING EARLY at epoch 261 (epsilon=1e-14)\n",
      "final loss=47.73688\n",
      "MSE of built-in linear regression(training):                     2.263924717762967e-28\n",
      "MSE of gradient descent solver for lasso regression (training):  47.15803345620624\n",
      "MSE of built-in solver for lasso regression (training):          8.782996430353922\n",
      "MSE of built-in linear regression(test):                         50.89682328293875\n",
      "MSE of gradient descent solver for lasso regression (test):      54.67061012744028\n",
      "MSE of built-in solver for lasso regression (test):              9.566046105001256\n"
     ]
    }
   ],
   "source": [
    "# Set regularization constant\n",
    "C = 1.0 # you can change it\n",
    "# Run gradient descent solver and compute its MSE\n",
    "w, b, losses = lasso_regression_GD(trainx,trainy,C, random_state=9)\n",
    "# Use built-in routine for ridge regression and compute MSE\n",
    "lasso_regr = linear_model.Lasso(alpha=1.0) # you can try different values\n",
    "lasso_regr.fit(trainx,trainy)\n",
    "# Print MSE values\n",
    "print(\"MSE of built-in linear regression(training):                    \", mean_squared_error(lin_regr.predict(trainx), trainy))\n",
    "print(\"MSE of gradient descent solver for lasso regression (training): \", compute_mse(w,b,trainx, trainy))\n",
    "print(\"MSE of built-in solver for lasso regression (training):         \", mean_squared_error(lasso_regr.predict(trainx), trainy))\n",
    "print(\"MSE of built-in linear regression(test):                        \", mean_squared_error(lin_regr.predict(testx), testy))\n",
    "print(\"MSE of gradient descent solver for lasso regression (test):     \", compute_mse(w,b,testx, testy))\n",
    "print(\"MSE of built-in solver for lasso regression (test):             \", mean_squared_error(lasso_regr.predict(testx), testy))"
   ]
  },
  {
   "cell_type": "markdown",
   "metadata": {},
   "source": [
    "### With regularization diabled"
   ]
  },
  {
   "cell_type": "code",
   "execution_count": 65,
   "metadata": {},
   "outputs": [
    {
     "name": "stdout",
     "output_type": "stream",
     "text": [
      "Regularization DISABLED\n",
      "STOPPING EARLY at epoch 167 (epsilon=1e-14)\n",
      "final loss=47.62961\n"
     ]
    },
    {
     "data": {
      "image/png": "[encoded data removed]",
      "text/plain": [
       "<Figure size 432x288 with 1 Axes>"
      ]
     },
     "metadata": {
      "needs_background": "light"
     },
     "output_type": "display_data"
    },
    {
     "name": "stdout",
     "output_type": "stream",
     "text": [
      "|W|=10.83\n"
     ]
    }
   ],
   "source": [
    "# Run gradient descent solver\n",
    "print('Regularization DISABLED')\n",
    "w, b, losses = lasso_regression_GD(trainx,trainy,C=0.0, lr=0.001, random_state=9)\n",
    "# Plot the losses\n",
    "plt.plot(losses,'r')\n",
    "plt.xlabel('Iterations', fontsize=14)\n",
    "plt.ylabel('Loss', fontsize=14)\n",
    "plt.show()\n",
    "\n",
    "print('|W|={:.2f}'.format(np.linalg.norm(w)))\n",
    "# thr = 0.06\n",
    "# print(f'Features that have been killed by lasso (|w| <= {thr}) (as indexes):\\n', np.where(np.abs(w) <= thr) )"
   ]
  },
  {
   "cell_type": "markdown",
   "metadata": {},
   "source": [
    "## Questions\n",
    "\n",
    "1. Documents all the results in the report.\n",
    "2. Try with a large value of C (e.g., 20) for lasso and check teh weights and MSE. What do you observe?\n",
    "3. Compare the coefficients (parameter values) for ridge and lasso for the best setup. What do you observe? Can you explain?\n",
    "4. Compare MSE of linear, ridge, and lasso. What do you observe?\n",
    "5. Which among the ridge and lasso gives teh best results on the test? Can you explain why?\n",
    "6. Can the lasso regression retrieve the 10 features which were used in the equation for y? List them."
   ]
  },
  {
   "cell_type": "code",
   "execution_count": null,
   "metadata": {},
   "outputs": [],
   "source": []
  }
 ],
 "metadata": {
  "file_extension": ".py",
  "kernelspec": {
   "display_name": "Python 3",
   "language": "python",
   "name": "python3"
  },
  "language_info": {
   "codemirror_mode": {
    "name": "ipython",
    "version": 3
   },
   "file_extension": ".py",
   "mimetype": "text/x-python",
   "name": "python",
   "nbconvert_exporter": "python",
   "pygments_lexer": "ipython3",
   "version": "3.7.3"
  },
  "mimetype": "text/x-python",
  "name": "python",
  "npconvert_exporter": "python",
  "pycharm": {
   "stem_cell": {
    "cell_type": "raw",
    "source": [],
    "metadata": {
     "collapsed": false
    }
   }
  },
  "pygments_lexer": "ipython3",
  "version": 3
 },
 "nbformat": 4,
 "nbformat_minor": 2
}