{
 "cells": [
  {
   "cell_type": "markdown",
   "metadata": {},
   "source": [
    "# Gaussian generative models for handwritten digit classification"
   ]
  },
  {
   "cell_type": "markdown",
   "metadata": {},
   "source": [
    "## 1. Set up notebook and load in data"
   ]
  },
  {
   "cell_type": "markdown",
   "metadata": {},
   "source": [
    "As usual, we start by importing the required packages and data. For this notebook we will be using the *entire* `MNIST` dataset. The code below defines some helper functions that will load `MNIST` onto your computer."
   ]
  },
  {
   "cell_type": "code",
   "execution_count": 2,
   "metadata": {},
   "outputs": [],
   "source": [
    "%matplotlib inline\n",
    "import matplotlib.pyplot as plt \n",
    "import gzip, os\n",
    "import numpy as np\n",
    "from scipy.stats import multivariate_normal\n",
    "\n",
    "from urllib.request import urlretrieve"
   ]
  },
  {
   "cell_type": "code",
   "execution_count": 3,
   "metadata": {},
   "outputs": [],
   "source": [
    "# Function that downloads a specified MNIST data file from Yann Le Cun's website\n",
    "def download(filename, source='http://yann.lecun.com/exdb/mnist/'):\n",
    "    print(\"Downloading %s\" % filename)\n",
    "    urlretrieve(source + filename, filename)\n",
    "\n",
    "# Invokes download() if necessary, then reads in images\n",
    "def load_mnist_images(filename):\n",
    "    if not os.path.exists(filename):\n",
    "        download(filename)\n",
    "    with gzip.open(filename, 'rb') as f:\n",
    "        data = np.frombuffer(f.read(), np.uint8, offset=16)\n",
    "    data = data.reshape(-1,784)\n",
    "    return data\n",
    "\n",
    "def load_mnist_labels(filename):\n",
    "    if not os.path.exists(filename):\n",
    "        download(filename)\n",
    "    with gzip.open(filename, 'rb') as f:\n",
    "        data = np.frombuffer(f.read(), np.uint8, offset=8)\n",
    "    return data"
   ]
  },
  {
   "cell_type": "markdown",
   "metadata": {},
   "source": [
    "Now load in the training set and test set"
   ]
  },
  {
   "cell_type": "code",
   "execution_count": 4,
   "metadata": {},
   "outputs": [],
   "source": [
    "## Load the training set\n",
    "train_data = load_mnist_images('train-images-idx3-ubyte.gz')\n",
    "train_labels = load_mnist_labels('train-labels-idx1-ubyte.gz')\n",
    "\n",
    "## Load the testing set\n",
    "test_data = load_mnist_images('t10k-images-idx3-ubyte.gz')\n",
    "test_labels = load_mnist_labels('t10k-labels-idx1-ubyte.gz')"
   ]
  },
  {
   "cell_type": "markdown",
   "metadata": {},
   "source": [
    "The function **displaychar** shows a single MNIST digit. To do this, it first has to reshape the 784-dimensional vector into a 28x28 image."
   ]
  },
  {
   "cell_type": "code",
   "execution_count": 5,
   "metadata": {},
   "outputs": [],
   "source": [
    "def displaychar(image):\n",
    "    plt.imshow(np.reshape(image, (28,28)), cmap=plt.cm.gray)\n",
    "    plt.axis('off')\n",
    "    plt.show()"
   ]
  },
  {
   "cell_type": "code",
   "execution_count": 6,
   "metadata": {},
   "outputs": [
    {
     "data": {
      "image/png": "[encoded data removed]",
      "text/plain": [
       "<Figure size 432x288 with 1 Axes>"
      ]
     },
     "metadata": {
      "needs_background": "light"
     },
     "output_type": "display_data"
    }
   ],
   "source": [
    "displaychar(train_data[500])"
   ]
  },
  {
   "cell_type": "markdown",
   "metadata": {},
   "source": [
    "The training set consists of 60,000 images. Thus `train_data` should be a 60000x784 array while `train_labels` should be 60000x1. Let's check."
   ]
  },
  {
   "cell_type": "code",
   "execution_count": 7,
   "metadata": {},
   "outputs": [],
   "source": [
    "train_data = train_data.astype(\"int64\")\n",
    "test_data = test_data.astype(\"int64\")"
   ]
  },
  {
   "cell_type": "markdown",
   "metadata": {},
   "source": [
    "train_data = train_data[:int(len(train_data)*0.1),:]\n",
    "train_labels = train_labels[:int(len(train_labels)*0.1)]\n",
    "\n",
    "test_data = train_data[:int(len(test_data)*0.1),:]\n",
    "test_labels = train_labels[:int(len(test_labels)*0.1)]"
   ]
  },
  {
   "cell_type": "code",
   "execution_count": 8,
   "metadata": {},
   "outputs": [
    {
     "data": {
      "text/plain": [
       "((60000, 784), (60000,))"
      ]
     },
     "execution_count": 8,
     "metadata": {},
     "output_type": "execute_result"
    }
   ],
   "source": [
    "train_data.shape, train_labels.shape"
   ]
  },
  {
   "cell_type": "code",
   "execution_count": 9,
   "metadata": {},
   "outputs": [],
   "source": [
    "from sklearn.model_selection import train_test_split\n",
    "X_train, X_val, Y_train, Y_val = train_test_split(train_data, train_labels, test_size=0.20, random_state=42)"
   ]
  },
  {
   "cell_type": "code",
   "execution_count": 10,
   "metadata": {},
   "outputs": [
    {
     "data": {
      "text/plain": [
       "((48000, 784), (12000, 784), (48000,), (12000,))"
      ]
     },
     "execution_count": 10,
     "metadata": {},
     "output_type": "execute_result"
    }
   ],
   "source": [
    "X_train.shape, X_val.shape, Y_train.shape, Y_val.shape"
   ]
  },
  {
   "cell_type": "markdown",
   "metadata": {},
   "source": [
    "## 2. Fit a Gaussian generative model to the training data"
   ]
  },
  {
   "cell_type": "markdown",
   "metadata": {},
   "source": [
    "**<font color=\"magenta\">For you to do:</font>** Define a function, **fit_generative_model**, that takes as input a training set (data `x` and labels `y`) and fits a Gaussian generative model to it. It should return the parameters of this generative model; for each label `j = 0,1,...,9`, we have:\n",
    "* `pi[j]`: the frequency of that label\n",
    "* `mu[j]`: the 784-dimensional mean vector\n",
    "* `sigma[j]`: the 784x784 covariance matrix\n",
    "\n",
    "This means that `pi` is 10x1, `mu` is 10x784, and `sigma` is 10x784x784.\n",
    "\n",
    "We have already seen how to fit a Gaussian generative model in the IRIS example, but now there is an added ingredient. <font color=\"magenta\">The empirical covariances are very likely to be singular (or close to singular), which means that we won't be able to do calculations with them</font>. Thus it is important to **regularize** these matrices. The standard way of doing this is to add `cI` to them, where `c` is some constant and `I` is the 784-dimensional identity matrix. (To put it another way, we compute the empirical covariances and then increase their diagonal entries by some constant `c`.)\n",
    "\n",
    "This modification is guaranteed to yield covariance matrices that are non-singular, for any `c > 0`, no matter how small. But this doesn't mean that we should make `c` as small as possible. Indeed, `c` is now a hyper-parameter, and by setting it appropriately, we can improve the performance of the model.\n",
    "\n",
    "Your routine needs to choose a good setting of `c`. Crucially, this needs to be done using the training set alone. So you might try setting aside part of the training set as a validation set, or using some kind of cross-validation."
   ]
  },
  {
   "cell_type": "code",
   "execution_count": 11,
   "metadata": {},
   "outputs": [],
   "source": [
    "def fit_generative_model(x, y, c):\n",
    "    ### UPDATE CODE HERE ###\n",
    "    #c = 100\n",
    "    k = 10  # labels 0,1,...,k-1\n",
    "    d = (x.shape)[1]  # number of features\n",
    "    mu = np.zeros((k,d))\n",
    "    sigma = np.zeros((k,d,d))\n",
    "    pi = np.zeros(k)\n",
    "    for label in range(0,k):\n",
    "        indices = (y == label)\n",
    "        ### START CODE HERE ###\n",
    "        mu[label] = x[indices,:].mean(axis = 0)\n",
    "        sigma[label] = np.cov(x[indices,:], rowvar=False)\n",
    "        ### Update Code for regularization (smoothing)\n",
    "        sigma[label] = sigma[label] + c*np.identity(d)\n",
    "        pi[label] = len(x[indices,:]) / len(y)\n",
    "        ### END CODE HERE ###\n",
    "    return mu, sigma, pi"
   ]
  },
  {
   "cell_type": "markdown",
   "metadata": {},
   "source": [
    "Okay, let's try out your function. In particular, we will use **displaychar** to visualize the means of the Gaussians for the first three digits. You can try the other digits on your own."
   ]
  },
  {
   "cell_type": "code",
   "execution_count": 13,
   "metadata": {},
   "outputs": [
    {
     "data": {
      "image/png": "[encoded data removed]",
      "text/plain": [
       "<Figure size 432x288 with 1 Axes>"
      ]
     },
     "metadata": {
      "needs_background": "light"
     },
     "output_type": "display_data"
    },
    {
     "data": {
      "image/png": "[encoded data removed]",
      "text/plain": [
       "<Figure size 432x288 with 1 Axes>"
      ]
     },
     "metadata": {
      "needs_background": "light"
     },
     "output_type": "display_data"
    },
    {
     "data": {
      "image/png": "[encoded data removed]",
      "text/plain": [
       "<Figure size 432x288 with 1 Axes>"
      ]
     },
     "metadata": {
      "needs_background": "light"
     },
     "output_type": "display_data"
    }
   ],
   "source": [
    "mu, sigma, pi = fit_generative_model(X_train, Y_train, 1000000000000)\n",
    "\n",
    "displaychar(mu[0])\n",
    "displaychar(mu[1])\n",
    "displaychar(mu[2])"
   ]
  },
  {
   "cell_type": "code",
   "execution_count": 144,
   "metadata": {},
   "outputs": [
    {
     "name": "stdout",
     "output_type": "stream",
     "text": [
      "(10, 784)\n",
      "(10, 784, 784)\n",
      "(10,)\n"
     ]
    }
   ],
   "source": [
    "print(mu.shape)\n",
    "print(sigma.shape)\n",
    "print(pi.shape)"
   ]
  },
  {
   "cell_type": "markdown",
   "metadata": {},
   "source": [
    "## 3. Make predictions on validate data"
   ]
  },
  {
   "cell_type": "markdown",
   "metadata": {},
   "source": [
    "Now let's see how many errors your model makes on the validate set."
   ]
  },
  {
   "cell_type": "code",
   "execution_count": 145,
   "metadata": {},
   "outputs": [],
   "source": [
    "def NormalPDF(x, mu, ConstantPart, invCovar, pi):\n",
    "    \n",
    "    expPart = np.matmul(np.matmul(-0.5 *np.transpose(x - mu), invCovar), x-mu)\n",
    "    #expPart = np.log(expPart)\n",
    "    #consPart = ConstantPart\n",
    "    #consPast = np.log(consPart)\n",
    "    #res = pi * (expPart - consPart)\n",
    "    res = expPart - (ConstantPart) + np.log(pi)\n",
    "    \n",
    "    return res\n",
    "# def NormalPDF(x, mu, covar, pi):\n",
    "#     d = len(mu)\n",
    "#     expPart = np.matmul(np.matmul(-0.5 *np.transpose(x - mu), np.linalg.inv(covar)), x-mu)\n",
    "#     pa1 = (d/2)*np.log(2+np.pi)\n",
    "#     pa2 = np.sqrt(np.linalg.det(covar))\n",
    "#     res = np.log(pi) + expPart - (pa1 + pa2)\n",
    "#     return res"
   ]
  },
  {
   "cell_type": "code",
   "execution_count": 146,
   "metadata": {},
   "outputs": [
    {
     "name": "stdout",
     "output_type": "stream",
     "text": [
      "Your model makes 10678 errors out of 12000\n",
      "Accuracy = 11.016666666666666\n"
     ]
    }
   ],
   "source": [
    "# Compute log Pr(label|image) for each [val image,label] pair.\n",
    "k = 10\n",
    "score = np.zeros((Y_val.shape[0],k))\n",
    "for label in range(0,k):\n",
    "    invCovar = np.linalg.inv(sigma[label])\n",
    "    d = len(mu[label])\n",
    "    #ConstantPart = (np.power(2*np.pi, d/2)* np.sqrt(np.linalg.det(sigma[label])))\n",
    "    ConstantPart = (d/2) * np.log(2*np.pi) + 0.5 * np.linalg.slogdet(sigma[label])[1]\n",
    "    for i in range(0,Y_val.shape[0]):\n",
    "       ### START CODE HERE ###\n",
    "       #score[i,label] = multivariate_normal.logpdf(X_val[i], mu[label], sigma[label]) * pi[label]\n",
    "        score[i,label] = NormalPDF(X_val[i], mu[label], ConstantPart, invCovar, pi[label])\n",
    "\n",
    "predictions = np.argmax(score, axis = 1)\n",
    "\n",
    "\n",
    "\n",
    "### END CODE HERE ###\n",
    "# Finally, tally up score\n",
    "errors = np.sum(predictions != Y_val)\n",
    "print (\"Your model makes \" + str(errors) + \" errors out of 12000\")\n",
    "print(\"Accuracy = \" + str((12000-errors)/12000*100))"
   ]
  },
  {
   "cell_type": "code",
   "execution_count": 147,
   "metadata": {},
   "outputs": [],
   "source": [
    "def Pick_C(c):\n",
    "    mu, sigma, pi = fit_generative_model(X_train, Y_train, c)\n",
    "    k = 10\n",
    "    score = np.zeros((Y_val.shape[0],k))\n",
    "    for label in range(0,k):\n",
    "        invCovar = np.linalg.inv(sigma[label])\n",
    "        d = len(mu[label])\n",
    "        #ConstantPart = (np.power(2*np.pi, d/2)* np.sqrt(np.linalg.det(sigma[label])))\n",
    "        ConstantPart = (d/2) * np.log(2*np.pi) + 0.5 * np.linalg.slogdet(sigma[label])[1]\n",
    "        for i in range(0,Y_val.shape[0]):\n",
    "           ### START CODE HERE ###\n",
    "           #score[i,label] = multivariate_normal.logpdf(X_val[i], mu[label], sigma[label]) * pi[label]\n",
    "            score[i,label] = NormalPDF(X_val[i], mu[label], ConstantPart, invCovar, pi[label])\n",
    "\n",
    "    predictions = np.argmax(score, axis = 1)\n",
    "\n",
    "\n",
    "\n",
    "    ### END CODE HERE ###\n",
    "    # Finally, tally up score\n",
    "    errors = np.sum(predictions != Y_val)\n",
    "    print(\"C = %d\"%(c))\n",
    "    print (\"Your model makes \" + str(errors) + \" errors out of 12000\")\n",
    "    print(\"Accuracy = \" + str((12000-errors)/12000*100))"
   ]
  },
  {
   "cell_type": "code",
   "execution_count": 148,
   "metadata": {},
   "outputs": [
    {
     "name": "stdout",
     "output_type": "stream",
     "text": [
      "C = 100\n",
      "Your model makes 1045 errors out of 12000\n",
      "Accuracy = 91.29166666666667\n",
      "C = 150\n",
      "Your model makes 948 errors out of 12000\n",
      "Accuracy = 92.10000000000001\n",
      "C = 300\n",
      "Your model makes 807 errors out of 12000\n",
      "Accuracy = 93.27499999999999\n",
      "C = 500\n",
      "Your model makes 724 errors out of 12000\n",
      "Accuracy = 93.96666666666667\n",
      "C = 700\n",
      "Your model makes 684 errors out of 12000\n",
      "Accuracy = 94.3\n",
      "C = 1000\n",
      "Your model makes 633 errors out of 12000\n",
      "Accuracy = 94.72500000000001\n",
      "C = 1500\n",
      "Your model makes 598 errors out of 12000\n",
      "Accuracy = 95.01666666666667\n",
      "C = 2000\n",
      "Your model makes 581 errors out of 12000\n",
      "Accuracy = 95.15833333333333\n",
      "C = 3000\n",
      "Your model makes 583 errors out of 12000\n",
      "Accuracy = 95.14166666666667\n"
     ]
    }
   ],
   "source": [
    "c = [100, 150, 300, 500, 700, 1000, 1500, 2000, 3000]\n",
    "\n",
    "for i in c:\n",
    "    Pick_C(i)"
   ]
  },
  {
   "cell_type": "markdown",
   "metadata": {},
   "source": [
    "## 4. Make predictions on test data"
   ]
  },
  {
   "cell_type": "code",
   "execution_count": 149,
   "metadata": {},
   "outputs": [],
   "source": [
    "mu, sigma, pi = fit_generative_model(X_train, Y_train, 2000)"
   ]
  },
  {
   "cell_type": "code",
   "execution_count": 151,
   "metadata": {},
   "outputs": [
    {
     "name": "stdout",
     "output_type": "stream",
     "text": [
      "Your model makes 439 errors out of 10000\n",
      "Accuracy = 95.61\n"
     ]
    }
   ],
   "source": [
    "# Compute log Pr(label|image) for each [val image,label] pair.\n",
    "k = 10\n",
    "score = np.zeros((test_labels.shape[0],k))\n",
    "for label in range(0,k):\n",
    "    invCovar = np.linalg.inv(sigma[label])\n",
    "    d = len(mu[label])    \n",
    "    ConstantPart = (d/2) * np.log(2*np.pi) + 0.5 * np.linalg.slogdet(sigma[label])[1]\n",
    "    for i in range(0,test_labels.shape[0]):\n",
    "       ### START CODE HERE ### \n",
    "       score[i,label] = NormalPDF(test_data[i], mu[label], ConstantPart, invCovar, pi[label])\n",
    "predictions = np.argmax(score, axis = 1)\n",
    "### END CODE HERE ###\n",
    "# Finally, tally up score\n",
    "errors = np.sum(predictions != test_labels)\n",
    "total_count = test_labels.shape[0]\n",
    "print (\"Your model makes \" + str(errors) + \" errors out of \" + str(total_count))\n",
    "print(\"Accuracy = \" + str((total_count-errors)/total_count*100))"
   ]
  },
  {
   "cell_type": "markdown",
   "metadata": {},
   "source": [
    "## 4. Quick exercises"
   ]
  },
  {
   "cell_type": "markdown",
   "metadata": {},
   "source": [
    "<font color=\"magenta\">Exercise 1:</font> What happens if you do not regularize the covariance matrices?"
   ]
  },
  {
   "cell_type": "markdown",
   "metadata": {},
   "source": [
    "<font color=\"magenta\">Exercise 2:</font> What happens if you set the value of `c` too high, for instance to one billion? Do you understand why this happens?"
   ]
  },
  {
   "cell_type": "markdown",
   "metadata": {},
   "source": [
    "<font color=\"magenta\">Exercise 3:</font> What value of c did you end up using? How many errors did your model make on the validation set?"
   ]
  },
  {
   "cell_type": "markdown",
   "metadata": {},
   "source": [
    "<font color=\"magenta\">Exercise 4:</font> How many errors did your model make on the test set?"
   ]
  },
  {
   "cell_type": "markdown",
   "metadata": {},
   "source": [
    "<font color=\"magenta\">Optional</font>: \n",
    "1. We have talked about using the same regularization constant `c` for all ten classes. What about using a different value of `c` for each class? How would you go about choosing these? Can you get better performance in this way?\n",
    "2. Try applying multivariate Gaussian classifier on other datasets."
   ]
  },
  {
   "cell_type": "code",
   "execution_count": null,
   "metadata": {},
   "outputs": [],
   "source": []
  }
 ],
 "metadata": {
  "kernelspec": {
   "display_name": "Python 3",
   "language": "python",
   "name": "python3"
  },
  "language_info": {
   "codemirror_mode": {
    "name": "ipython",
    "version": 3
   },
   "file_extension": ".py",
   "mimetype": "text/x-python",
   "name": "python",
   "nbconvert_exporter": "python",
   "pygments_lexer": "ipython3",
   "version": "3.7.3"
  },
  "toc": {
   "colors": {
    "hover_highlight": "#DAA520",
    "navigate_num": "#000000",
    "navigate_text": "#333333",
    "running_highlight": "#FF0000",
    "selected_highlight": "#FFD700",
    "sidebar_border": "#EEEEEE",
    "wrapper_background": "#FFFFFF"
   },
   "moveMenuLeft": true,
   "nav_menu": {
    "height": "12px",
    "width": "252px"
   },
   "navigate_menu": true,
   "number_sections": false,
   "sideBar": true,
   "threshold": 4,
   "toc_cell": false,
   "toc_section_display": "block",
   "toc_window_display": false,
   "widenNotebook": false
  }
 },
 "nbformat": 4,
 "nbformat_minor": 1
}
