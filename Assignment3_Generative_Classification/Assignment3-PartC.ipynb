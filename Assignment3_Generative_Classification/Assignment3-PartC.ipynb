{
 "cells": [
  {
   "cell_type": "markdown",
   "metadata": {},
   "source": [
    "# IRIS classification with the multivariate Gaussian"
   ]
  },
  {
   "cell_type": "markdown",
   "metadata": {},
   "source": [
    "In this notebook, we return to IRIS classification, using the full set of 4 features.\n",
    "\n",
    "**Note:** You can use built-in code for mean, variance, covariance, determinant, etc."
   ]
  },
  {
   "cell_type": "markdown",
   "metadata": {},
   "source": [
    "## 1. Load in the data "
   ]
  },
  {
   "cell_type": "markdown",
   "metadata": {},
   "source": [
    "As in the bivariate case, we start by loading in the IRIS data set.\n",
    "Recall that there are 150 data points, each with 4 features and a label (0,1,2). As before, we will divide this into a training set of 105 points and a test set of 45 points."
   ]
  },
  {
   "cell_type": "code",
   "execution_count": 1,
   "metadata": {},
   "outputs": [],
   "source": [
    "# Standard includes\n",
    "%matplotlib inline\n",
    "import numpy as np\n",
    "import matplotlib.pyplot as plt\n",
    "# Useful module for dealing with the Gaussian density\n",
    "from scipy.stats import norm, multivariate_normal #in case you use buit-in library\n",
    "from sklearn import datasets"
   ]
  },
  {
   "cell_type": "code",
   "execution_count": 2,
   "metadata": {},
   "outputs": [],
   "source": [
    "# Load data set.\n",
    "iris = datasets.load_iris()\n",
    "X = iris.data\n",
    "Y = iris.target\n",
    "featurenames = ['petal_length', 'petal_width', 'sepal_length', 'sepal_width']\n",
    "\n",
    "# Split 150 instances into training set (trainx, trainy) of size 105 and test set (testx, testy) of size 45\n",
    "np.random.seed(0)\n",
    "perm = np.random.permutation(150)\n",
    "trainx = X[perm[0:105],:]\n",
    "trainy = Y[perm[0:105]]\n",
    "testx = X[perm[105:150],:]\n",
    "testy = Y[perm[105:150]]"
   ]
  },
  {
   "cell_type": "markdown",
   "metadata": {},
   "source": [
    "## 2. Fit a Gaussian generative model"
   ]
  },
  {
   "cell_type": "markdown",
   "metadata": {},
   "source": [
    "We now define a function that fits a Gaussian generative model to the data.\n",
    "For each class (`j=0,1,2`), we have:\n",
    "* `pi[j]`: the class weight\n",
    "* `mu[j,:]`: the mean, a 4-dimensional vector\n",
    "* `sigma[j,:,:]`: the 4x4 covariance matrix\n",
    "\n",
    "This means that `pi` is a 3x1 array, `mu` is a 3x13 array and `sigma` is a 3x13x13 array."
   ]
  },
  {
   "cell_type": "code",
   "execution_count": 71,
   "metadata": {},
   "outputs": [],
   "source": [
    "def fit_generative_model(x,y):\n",
    "    k = 3  # labels 1,2,...,k\n",
    "    d = (x.shape)[1]  # number of features\n",
    "    mu = np.zeros((k,d))\n",
    "    sigma = np.zeros((k,d,d))\n",
    "    pi = np.zeros(k)\n",
    "    for label in range(0,k):\n",
    "        indices = (y == label)\n",
    "        ### START CODE HERE ###\n",
    "        mu[label] = None\n",
    "        sigma[label] = None\n",
    "        pi[label] = None\n",
    "        ### END CODE HERE ###\n",
    "    return mu, sigma, pi"
   ]
  },
  {
   "cell_type": "code",
   "execution_count": 72,
   "metadata": {},
   "outputs": [],
   "source": [
    "# Fit a Gaussian generative model to the training data\n",
    "mu, sigma, pi = fit_generative_model(trainx,trainy)"
   ]
  },
  {
   "cell_type": "markdown",
   "metadata": {},
   "source": [
    "## 3. Use the model to make predictions on the test set"
   ]
  },
  {
   "cell_type": "markdown",
   "metadata": {},
   "source": [
    "<font color=\"magenta\">**For you to do**</font>: Define a general purpose testing routine that takes as input:\n",
    "* the arrays `pi`, `mu`, `sigma` defining the generative model, as above\n",
    "* the test set (points `tx` and labels `ty`)\n",
    "* a list of features `features` (chosen from 0-3)\n",
    "\n",
    "It should return the number of mistakes made by the generative model on the test data, *when restricted to the specified features*. For instance, using the just two features 0 (`'petal_length'`), 1 (`'petal_width'`) results in 7 mistakes (out of 45 test points), so \n",
    "\n",
    "        `test_model(mu, sigma, pi, [0,1], testx, testy)` \n",
    "\n",
    "should print 7/45.\n",
    "\n",
    "**Hint:** The way you restrict attention to a subset of features is by choosing the corresponding coordinates of the full 4-dimensional mean and the appropriate submatrix of the full 4x4 covariance matrix."
   ]
  },
  {
   "cell_type": "code",
   "execution_count": 73,
   "metadata": {},
   "outputs": [],
   "source": [
    "# Now test the performance of a predictor based on a subset of features\n",
    "def test_model(mu, sigma, pi, features, tx, ty):\n",
    "    nt = len(ty)\n",
    "    k = 3 \n",
    "    score = np.zeros((nt,k+1))\n",
    "    for i in range(0,nt):\n",
    "        for label in range(0,k):\n",
    "            ### START CODE HERE ###\n",
    "            # Implement the formula for normal pdf. \n",
    "            # If you can't, use the built-in multivariate_normal.logpdf but to get the full grades you should implement your own \n",
    "            score[i,label] = None\n",
    "    predictions = None\n",
    "    ### END CODE HERE ###\n",
    "    # Finally, tally up score\n",
    "    errors = np.sum(predictions != ty)\n",
    "    print (str(errors) + '/' + str(nt))"
   ]
  },
  {
   "cell_type": "markdown",
   "metadata": {},
   "source": [
    "### Question"
   ]
  },
  {
   "cell_type": "markdown",
   "metadata": {},
   "source": [
    "Exercise 1. How many errors are made on the test set when using the single feature 'petal_length'?"
   ]
  },
  {
   "cell_type": "code",
   "execution_count": 74,
   "metadata": {},
   "outputs": [
    {
     "name": "stdout",
     "output_type": "stream",
     "text": [
      "12/45\n"
     ]
    }
   ],
   "source": [
    "test_model(mu, sigma, pi, [0], testx, testy)"
   ]
  },
  {
   "cell_type": "markdown",
   "metadata": {},
   "source": [
    "Exercise 2. How many errors when using 'petal_length' and 'petal_width'?"
   ]
  },
  {
   "cell_type": "code",
   "execution_count": 75,
   "metadata": {},
   "outputs": [
    {
     "name": "stdout",
     "output_type": "stream",
     "text": [
      "7/45\n"
     ]
    }
   ],
   "source": [
    "test_model(mu, sigma, pi, [0, 1], testx, testy)"
   ]
  },
  {
   "cell_type": "markdown",
   "metadata": {},
   "source": [
    "Exercise 3. How many errors when using all the 4 features?"
   ]
  },
  {
   "cell_type": "code",
   "execution_count": 76,
   "metadata": {},
   "outputs": [
    {
     "name": "stdout",
     "output_type": "stream",
     "text": [
      "2/45\n"
     ]
    }
   ],
   "source": [
    "test_model(mu, sigma, pi, [0, 1, 2, 3], testx, testy)"
   ]
  }
 ],
 "metadata": {
  "kernelspec": {
   "display_name": "Python 3",
   "language": "python",
   "name": "python3"
  },
  "language_info": {
   "codemirror_mode": {
    "name": "ipython",
    "version": 3
   },
   "file_extension": ".py",
   "mimetype": "text/x-python",
   "name": "python",
   "nbconvert_exporter": "python",
   "pygments_lexer": "ipython3",
   "version": "3.6.7"
  },
  "toc": {
   "colors": {
    "hover_highlight": "#DAA520",
    "navigate_num": "#000000",
    "navigate_text": "#333333",
    "running_highlight": "#FF0000",
    "selected_highlight": "#FFD700",
    "sidebar_border": "#EEEEEE",
    "wrapper_background": "#FFFFFF"
   },
   "moveMenuLeft": true,
   "nav_menu": {
    "height": "12px",
    "width": "252px"
   },
   "navigate_menu": true,
   "number_sections": false,
   "sideBar": true,
   "threshold": 4,
   "toc_cell": false,
   "toc_section_display": "block",
   "toc_window_display": false,
   "widenNotebook": false
  }
 },
 "nbformat": 4,
 "nbformat_minor": 1
}
