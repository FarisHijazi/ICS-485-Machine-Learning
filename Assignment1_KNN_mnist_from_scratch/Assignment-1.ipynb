{
 "cells": [
  {
   "cell_type": "markdown",
   "metadata": {},
   "source": [
    "# Assignment-1 (KNN Classifier)\n",
    "## Handwritten digit recognition\n",
    "In this assignment, we will build a classifier that takes an image of a handwritten digit and outputs a label 0-9."
   ]
  },
  {
   "cell_type": "markdown",
   "metadata": {},
   "source": [
    "## The MNIST dataset\n",
    "`MNIST` is a classic dataset in machine learning, consisting of 28x28 gray-scale images handwritten digits. The training set contains 60,000 examples and the test set contains 10,000 examples. In this assignment we will further split the training set to take out 12,000 examples as a validation step."
   ]
  },
  {
   "cell_type": "code",
   "execution_count": 1,
   "metadata": {},
   "outputs": [],
   "source": [
    "%matplotlib inline\n",
    "import gzip, os\n",
    "import numpy as np\n",
    "import matplotlib.pyplot as plt\n",
    "import time\n",
    "from urllib.request import urlretrieve"
   ]
  },
  {
   "cell_type": "code",
   "execution_count": 2,
   "metadata": {},
   "outputs": [],
   "source": [
    "# Function that downloads a specified MNIST data file from Yann Le Cun's website\n",
    "def download(filename, source='http://yann.lecun.com/exdb/mnist/'):\n",
    "    print(\"Downloading %s\" % filename)\n",
    "    urlretrieve(source + filename, filename)\n",
    "\n",
    "# Invokes download() if necessary, then reads in images\n",
    "def load_mnist_images(filename):\n",
    "    if not os.path.exists(filename):\n",
    "        download(filename)\n",
    "    with gzip.open(filename, 'rb') as f:\n",
    "        data = np.frombuffer(f.read(), np.uint8, offset=16)\n",
    "    data = data.reshape(-1,784)\n",
    "    return data\n",
    "\n",
    "def load_mnist_labels(filename):\n",
    "    if not os.path.exists(filename):\n",
    "        download(filename)\n",
    "    with gzip.open(filename, 'rb') as f:\n",
    "        data = np.frombuffer(f.read(), np.uint8, offset=8)\n",
    "    return data"
   ]
  },
  {
   "cell_type": "code",
   "execution_count": 11,
   "metadata": {},
   "outputs": [],
   "source": [
    "# Training dataset dimensions:  (60000, 784)\n",
    "# Number of training labels:  60000\n",
    "# Testing dataset dimensions:  (10000, 784)\n",
    "# Number of testing labels:  10000\n",
    "\n",
    "## Load the training set\n",
    "train_data = load_mnist_images('train-images-idx3-ubyte.gz')[:600]\n",
    "train_labels = load_mnist_labels('train-labels-idx1-ubyte.gz')[:600]\n",
    "\n",
    "## Load the testing set\n",
    "test_data = load_mnist_images('t10k-images-idx3-ubyte.gz')[:100]\n",
    "test_labels = load_mnist_labels('t10k-labels-idx1-ubyte.gz')[:100]"
   ]
  },
  {
   "cell_type": "markdown",
   "metadata": {},
   "source": [
    "%matplotlib inline\n",
    "import numpy as np\n",
    "import matplotlib.pyplot as plt \n",
    "import time\n",
    "\n",
    "## Load the training set\n",
    "train_data = np.load('MNIST/train_data.npy')\n",
    "train_labels = np.load('MNIST/train_labels.npy')\n",
    "\n",
    "## Load the testing set\n",
    "test_data = np.load('MNIST/test_data.npy')\n",
    "test_labels = np.load('MNIST/test_labels.npy')"
   ]
  },
  {
   "cell_type": "code",
   "execution_count": 12,
   "metadata": {},
   "outputs": [],
   "source": [
    "train_data = train_data.astype('int64')\n",
    "test_data = test_data.astype('int64')"
   ]
  },
  {
   "cell_type": "code",
   "execution_count": 13,
   "metadata": {},
   "outputs": [
    {
     "data": {
      "text/plain": [
       "(100, 784)"
      ]
     },
     "execution_count": 13,
     "metadata": {},
     "output_type": "execute_result"
    }
   ],
   "source": [
    "test_data.shape"
   ]
  },
  {
   "cell_type": "code",
   "execution_count": 14,
   "metadata": {},
   "outputs": [
    {
     "name": "stdout",
     "output_type": "stream",
     "text": [
      "Training dataset dimensions:  (600, 784)\n",
      "Number of training labels:  600\n",
      "Testing dataset dimensions:  (100, 784)\n",
      "Number of testing labels:  100\n"
     ]
    }
   ],
   "source": [
    "## Print out their dimensions\n",
    "print(\"Training dataset dimensions: \", np.shape(train_data))\n",
    "print(\"Number of training labels: \", len(train_labels))\n",
    "print(\"Testing dataset dimensions: \", np.shape(test_data))\n",
    "print(\"Number of testing labels: \", len(test_labels))"
   ]
  },
  {
   "cell_type": "code",
   "execution_count": 15,
   "metadata": {},
   "outputs": [
    {
     "name": "stdout",
     "output_type": "stream",
     "text": [
      "Training set distribution:\n",
      "{0: 58, 1: 79, 2: 64, 3: 59, 4: 59, 5: 51, 6: 54, 7: 62, 8: 49, 9: 65}\n",
      "Test set distribution:\n",
      "{0: 8, 1: 14, 2: 8, 3: 11, 4: 14, 5: 7, 6: 10, 7: 15, 8: 2, 9: 11}\n"
     ]
    }
   ],
   "source": [
    "## Compute the number of examples of each digit\n",
    "train_digits, train_counts = np.unique(train_labels, return_counts=True)\n",
    "print(\"Training set distribution:\")\n",
    "print(dict(zip(train_digits, train_counts)))\n",
    "\n",
    "test_digits, test_counts = np.unique(test_labels, return_counts=True)\n",
    "print(\"Test set distribution:\")\n",
    "print(dict(zip(test_digits, test_counts)))"
   ]
  },
  {
   "cell_type": "code",
   "execution_count": 16,
   "metadata": {},
   "outputs": [
    {
     "data": {
      "image/png": "[encoded data removed]",
      "text/plain": [
       "<Figure size 432x288 with 1 Axes>"
      ]
     },
     "metadata": {
      "needs_background": "light"
     },
     "output_type": "display_data"
    },
    {
     "name": "stdout",
     "output_type": "stream",
     "text": [
      "Label 5\n"
     ]
    },
    {
     "data": {
      "image/png": "[encoded data removed]",
      "text/plain": [
       "<Figure size 432x288 with 1 Axes>"
      ]
     },
     "metadata": {
      "needs_background": "light"
     },
     "output_type": "display_data"
    },
    {
     "name": "stdout",
     "output_type": "stream",
     "text": [
      "Label 7\n"
     ]
    }
   ],
   "source": [
    "## Define a function that displays a digit given its vector representation\n",
    "def show_digit(x):\n",
    "    plt.axis('off')\n",
    "    plt.imshow(x.reshape((28,28)), cmap=plt.cm.gray)\n",
    "    plt.show()\n",
    "    return\n",
    "\n",
    "## Define a function that takes an index into a particular data set (\"train\" or \"test\") and displays that image.\n",
    "def vis_image(index, dataset=\"train\"):\n",
    "    if(dataset==\"train\"): \n",
    "        show_digit(train_data[index,])\n",
    "        label = train_labels[index]\n",
    "    else:\n",
    "        show_digit(test_data[index,])\n",
    "        label = test_labels[index]\n",
    "    print(\"Label \" + str(label))\n",
    "    return\n",
    "\n",
    "## View the first data point in the training set\n",
    "vis_image(0, \"train\")\n",
    "\n",
    "## Now view the first data point in the test set\n",
    "vis_image(0, \"test\")"
   ]
  },
  {
   "cell_type": "markdown",
   "metadata": {},
   "source": [
    "## Splitting the Train data to Train and Validate Sets"
   ]
  },
  {
   "cell_type": "code",
   "execution_count": 17,
   "metadata": {},
   "outputs": [],
   "source": [
    "from sklearn.model_selection import train_test_split\n",
    "trainx, valx, trainy, valy = train_test_split(train_data, train_labels, test_size=0.20, random_state=42)"
   ]
  },
  {
   "cell_type": "markdown",
   "metadata": {},
   "source": [
    "## Nearest neighbor classification with L2 distance\n",
    "\n",
    "To compute nearest neighbors in our data set, we need to first be able to compute distances between data points. A natural distance function is _Euclidean distance_: for two vectors $x, y \\in \\mathbb{R}^d$, their Euclidean distance is defined as \n",
    "$$\\|x - y\\| = \\sqrt{\\sum_{i=1}^d (x_i - y_i)^2}.$$\n",
    "Often we omit the square root, and simply compute _squared Euclidean distance_:\n",
    "$$\\|x - y\\|^2 = \\sum_{i=1}^d (x_i - y_i)^2.$$\n",
    "For the purposes of nearest neighbor computations, the two are equivalent: for three vectors $x, y, z \\in \\mathbb{R}^d$, we have $\\|x - y\\| \\leq \\|x - z\\|$ if and only if $\\|x - y\\|^2 \\leq \\|x - z\\|^2$."
   ]
  },
  {
   "cell_type": "markdown",
   "metadata": {},
   "source": [
    "## Solution"
   ]
  },
  {
   "cell_type": "markdown",
   "metadata": {},
   "source": [
    "### Distance measures\n",
    "\n",
    "This is a general `ln` distance measure, it can be used for l2, l1 and any ln distance by changing the ord parameter\n",
    "\n",
    "```\n",
    "np.linalg.norm(np.subtract(a, b), ord=2)\n",
    "```"
   ]
  },
  {
   "cell_type": "code",
   "execution_count": 18,
   "metadata": {},
   "outputs": [],
   "source": [
    "def ln_dist(a, b, n=2):\n",
    "    return np.linalg.norm(np.subtract(a, b), ord=n)\n",
    "\n",
    "def euclidean_dist(a, b):\n",
    "    return np.linalg.norm(np.subtract(a, b))"
   ]
  },
  {
   "cell_type": "markdown",
   "metadata": {},
   "source": [
    "### Genral NN (nearest neighbor)\n",
    "\n",
    "This function takes in the distance measure, and the training values and labels, as well as a single test value"
   ]
  },
  {
   "cell_type": "code",
   "execution_count": 175,
   "metadata": {},
   "outputs": [],
   "source": [
    "def KNN_predict(X_train, Y_train, x_test, k=None, dist=euclidean_dist, weighted=False) -> list:\n",
    "    \"\"\"\n",
    "    @param x_test - a single entry, not a vector of Xs\n",
    "    @param k - \n",
    "    @param dist - distance function\n",
    "    @param weighted\n",
    "\n",
    "    @returns the Y values\n",
    "    \"\"\"\n",
    "    # setting default values\n",
    "    import collections\n",
    "    if k is None:\n",
    "        k = 1\n",
    "    if isinstance(dist, (int, float)):\n",
    "        n = dist\n",
    "        dist = lambda a,b: ln_dist(a,b, n=n)\n",
    "    \n",
    "    start_time = time.time()\n",
    "    \n",
    "    distances = [dist(x_test, x) for x in X_train]\n",
    "\n",
    "    if k == 1:\n",
    "        k_indexes = [np.argmin(distances, axis=0)]\n",
    "    else:\n",
    "        # index list of shortest distances\n",
    "        k_indexes = np.argsort(distances, axis=0)[:k]\n",
    "\n",
    "    if weighted is False:\n",
    "        Ys = Y_train[k_indexes]\n",
    "        # sorted list of item frequency\n",
    "        result = sorted(Ys, key=collections.Counter(Ys).get, reverse=True)[0]\n",
    "#         print('potential results: {}, {:3}s'.format(Ys, time.time()-start_time))\n",
    "        return result\n",
    "\n",
    "    # else if weighted:\n",
    "\n",
    "#     print(\"potential Ys (before merging):\", Y_train[k_indexes])\n",
    "\n",
    "    # create a dict with each key as a `y` and value as voting score (and we occumulate)\n",
    "    d = {} # contains {y: summed_score}\n",
    "    for k_i in k_indexes: # accumulating the sum\n",
    "        y = Y_train[k_i]\n",
    "        if not y in d: # initialize with 0\n",
    "            d[y] = 0.000001\n",
    "        d[y] += distances[k_i] #TODO: this can be changed\n",
    "\n",
    "#     print(\"potential Ys:\", list(d.keys()))\n",
    "\n",
    "    # then we sort the values and find the class with the highest score\n",
    "    # https://stackoverflow.com/a/613218/7771202\n",
    "    # returns a list of tuples sorted by the second element (the distance)\n",
    "    sorted_values = sorted(d.items(), key=lambda kv: kv[1])\n",
    "#     print('sorted_values', list(sorted_values))\n",
    "#     print('Prediction took {:3}s'.format(time.time()-start_time))\n",
    "    return sorted_values[0][0]"
   ]
  },
  {
   "cell_type": "markdown",
   "metadata": {},
   "source": [
    "### General purpose KNN classifier class\n",
    "\n",
    "The advantage of having such a class is that it's compatible with sklearn's interface (fit, train, score, get_params, set_params)\n",
    "\n",
    "I followed the guide on [creating a custom sklearn estimator](https://scikit-learn.org/stable/developers/contributing.html#rolling-your-own-estimator) to allow for compatibility."
   ]
  },
  {
   "cell_type": "code",
   "execution_count": 106,
   "metadata": {},
   "outputs": [],
   "source": [
    "class KNNClassifier():\n",
    "    def __init__(self, k=None, dist_metric=2, weighted=False):\n",
    "        self.__X_train = []\n",
    "        self.__Y_train = []\n",
    "        \n",
    "        self.k = k\n",
    "        self.dist_metric = dist_metric\n",
    "        self.weighted = weighted\n",
    "\n",
    "    def fit(self, X_train, Y_train):\n",
    "        self.__X_train = X_train\n",
    "        self.__Y_train = Y_train\n",
    "        return self\n",
    "\n",
    "    def predict(self, X, k=None, dist=None, weighted=None) -> list:\n",
    "        \"\"\"\n",
    "        @param x_test - the input value to be predicted, (a single entry, not a vector of Xs)\n",
    "        @param k - \n",
    "        @param dist - distance function\n",
    "        @param weighted\n",
    "\n",
    "        @returns the Y values\n",
    "        \"\"\"\n",
    "        if k is None:\n",
    "            k = self.k\n",
    "        if dist is None:\n",
    "            dist = self.dist_metric\n",
    "        if weighted is None:\n",
    "            weighted = self.weighted\n",
    "        \n",
    "        return [KNN_predict(self.__X_train, self.__Y_train, x_test, k=k, dist=dist, weighted=weighted) for x_test in X]\n",
    "\n",
    "    def score(self, X, y=None):\n",
    "        \"\"\"\n",
    "        returns 1 if the answer is correct, 0 otherwise.\n",
    "        This score is used for the cross validation and the grid search\n",
    "        \"\"\"\n",
    "        return 1 if self.predict(X) == y else 0\n",
    "    \n",
    "    def get_params(self, deep=True):\n",
    "        return {\n",
    "            'k': self.k,\n",
    "            'dist_metric': self.dist_metric,\n",
    "            'weighted': self.weighted\n",
    "        }\n",
    "    \n",
    "    def set_params(self, **parameters):\n",
    "        for parameter, value in parameters.items():\n",
    "            setattr(self, parameter, value)\n",
    "        return self"
   ]
  },
  {
   "cell_type": "markdown",
   "metadata": {},
   "source": [
    "## 1. Nearest neighbor classification with L2 distance"
   ]
  },
  {
   "cell_type": "markdown",
   "metadata": {},
   "source": [
    "Write a function, **NN_L2**, which takes as input the training data (`trainx` and `trainy`) and the test points (`evalx`) and predicts labels for these test points using 1-NN classification. These labels should be returned in a `numpy` array with one entry per test point. For **NN_L2**, the L2 norm should be used as the distance metric."
   ]
  },
  {
   "cell_type": "code",
   "execution_count": 140,
   "metadata": {},
   "outputs": [],
   "source": [
    "def NN_L2(trainx, trainy, evalx):\n",
    "    # inputs: trainx, trainy, testx <-- as defined above\n",
    "    # output: an np.array of the predicted values for testy \n",
    "    \n",
    "    # result array contains the closest label from evalx\n",
    "    # in the end, we convert it to a numpy array\n",
    "    return [KNN_predict(trainx, trainy, x_test, k=1, dist=euclidean_dist, weighted=False) for x_test in evalx]\n"
   ]
  },
  {
   "cell_type": "markdown",
   "metadata": {},
   "source": [
    "## 2. K-Nearest neighbor classification with L2 distance"
   ]
  },
  {
   "cell_type": "markdown",
   "metadata": {},
   "source": [
    "Write a function, **KNN_L2**, which takes as input the training data (`trainx` and `trainy`), the test points (`evalx`), and the value of **K** (integer) and predicts labels for these test points using K-NN classification. These labels should be returned in a `numpy` array with one entry per test point."
   ]
  },
  {
   "cell_type": "code",
   "execution_count": 141,
   "metadata": {},
   "outputs": [],
   "source": [
    "def KNN_L2(trainx, trainy, evalx, K=2):\n",
    "    # output: an np.array of the predicted values for testy \n",
    "    return [KNN_predict(trainx, trainy, x_test, k=K, dist=euclidean_dist, weighted=False) for x_test in evalx]\n"
   ]
  },
  {
   "cell_type": "markdown",
   "metadata": {},
   "source": [
    "## 3. Nearest neighbor classification with L1 distance"
   ]
  },
  {
   "cell_type": "markdown",
   "metadata": {},
   "source": [
    "We now compute nearest neighbors using the L1 distance (sometimes called *Manhattan Distance*).\n",
    "\n",
    "Write a function, **NN_L1**, which again takes as input the arrays `trainx`, `trainy`, and `evalx`, and predicts labels for the test points using 1-nearest neighbor classification. For **NN_L1**, the L1 distance metric should be used. As before, the predicted labels should be returned in a `numpy` array with one entry per test point.\n",
    "\n",
    "Notice that **NN_L1** and **NN_L2** may well produce different predictions on the test set."
   ]
  },
  {
   "cell_type": "code",
   "execution_count": 146,
   "metadata": {},
   "outputs": [],
   "source": [
    "def NN_L1(trainx, trainy, evalx):\n",
    "    # inputs: trainx, trainy, testx <-- as defined above\n",
    "    # output: an np.array of the predicted values for testy \n",
    "    return [KNN_predict(trainx, trainy, x_test, k=1, dist=2, weighted=False) for x_test in evalx]\n"
   ]
  },
  {
   "cell_type": "markdown",
   "metadata": {},
   "source": [
    "## 4. K-Nearest neighbor classification with L1 distance"
   ]
  },
  {
   "cell_type": "markdown",
   "metadata": {},
   "source": [
    "Write a function, **KNN_L1**, which takes as input the training data (`trainx` and `trainy`), the test points (`evalx`), and the value of **K** (integer) and predicts labels for these test points using K-NN classification and L1 distance metric. These labels should be returned in a `numpy` array with one entry per test point."
   ]
  },
  {
   "cell_type": "code",
   "execution_count": 143,
   "metadata": {},
   "outputs": [],
   "source": [
    "def KNN_L1(trainx, trainy, evalx, K=2):\n",
    "    # output: an np.array of the predicted values for testy \n",
    "    return [KNN_predict(trainx, trainy, x_test, k=K, dist=1, weighted=False) for x_test in evalx]"
   ]
  },
  {
   "cell_type": "markdown",
   "metadata": {},
   "source": [
    "## 5. K-Nearest neighbor classifier"
   ]
  },
  {
   "cell_type": "markdown",
   "metadata": {},
   "source": [
    "Write a function, **KNN**, which takes as input the training data (`trainx` and `trainy`), the test points (`evalx`), the value of **K** (integer), and a parameter for deciding the distance metric to be used (fr example 1 for L1 and 2 for L2) and predicts labels for these test points using KNN classification. These labels should be returned in a `numpy` array with one entry per test point."
   ]
  },
  {
   "cell_type": "code",
   "execution_count": 144,
   "metadata": {},
   "outputs": [],
   "source": [
    "def KNN(trainx, trainy, evalx, K=4, dist_metric=2, weighted=False):\n",
    "    # output: an np.array of the predicted values for testy \n",
    "    return [KNN_predict(trainx, trainy, x_test, k=K, dist=dist_metric, weighted=False) for x_test in evalx]"
   ]
  },
  {
   "cell_type": "markdown",
   "metadata": {},
   "source": [
    "## 6. Putting it all together"
   ]
  },
  {
   "cell_type": "markdown",
   "metadata": {},
   "source": [
    "Write code that allows you to select the hyper-parameters (distance measure and the value of K) by calling the KNN classifier with different values of K and either L1 or L2 distance measure. Make sure that you set the hyper-parameters using the development set and not the test set.\n",
    "\n",
    "- [ ] You need to systemtically try different values for K in conjunction with a distance measure and tabulate the results (in the assignment report) and not down the best hyper-parameter settings."
   ]
  },
  {
   "cell_type": "code",
   "execution_count": 112,
   "metadata": {},
   "outputs": [],
   "source": [
    "from sklearn.metrics import accuracy_score"
   ]
  },
  {
   "cell_type": "markdown",
   "metadata": {},
   "source": [
    "### hyper parameter search\n",
    "\n",
    "We could either do a manual search or a grid-search, since our implemented `KNNClassifier` is compatible with sklearn's gridsearch, we can use that.\n",
    "\n",
    "We will use grid-search to iterate over all hyperparameters. For each one we will record the hyperparams and the result, the training will be using the reduced training set, and testing on the validation set."
   ]
  },
  {
   "cell_type": "markdown",
   "metadata": {},
   "source": [
    "#### Manual grid search\n",
    "\n",
    "the bellow cell generates all the combinations for the hyperparams"
   ]
  },
  {
   "cell_type": "code",
   "execution_count": 113,
   "metadata": {
    "scrolled": true
   },
   "outputs": [
    {
     "name": "stdout",
     "output_type": "stream",
     "text": [
      "all combinations of hyperparams to try:\n",
      " [{'K': 2, 'dist_metric': 1, 'weighted': False}, {'K': 2, 'dist_metric': 2, 'weighted': False}, {'K': 4, 'dist_metric': 1, 'weighted': False}, {'K': 4, 'dist_metric': 2, 'weighted': False}, {'K': 10, 'dist_metric': 1, 'weighted': False}, {'K': 10, 'dist_metric': 2, 'weighted': False}, {'K': 100, 'dist_metric': 1, 'weighted': False}, {'K': 100, 'dist_metric': 2, 'weighted': False}]\n"
     ]
    }
   ],
   "source": [
    "import itertools\n",
    "\n",
    "param_grid = {\n",
    "    'K': [2, 4, 10, 100],\n",
    "    'dist_metric': [1, 2],\n",
    "    'weighted': [False]\n",
    "}\n",
    "\n",
    "index2key = dict(enumerate(param_grid))\n",
    "\n",
    "param_combos = []\n",
    "for i, combo in enumerate(itertools.product(*param_grid.values())): #finding the product (all combinations)\n",
    "    params = {index2key[i] : val for i, val in enumerate(combo)} # create a hyperparam dictionary\n",
    "    param_combos.append(params)\n",
    "\n",
    "print('all combinations of hyperparams to try:\\n', param_combos)\n",
    "    "
   ]
  },
  {
   "cell_type": "code",
   "execution_count": 151,
   "metadata": {},
   "outputs": [
    {
     "name": "stdout",
     "output_type": "stream",
     "text": [
      "(1/8) 0.565seconds.\t For hyperparams: {'K': 2, 'dist_metric': 1, 'weighted': False}, score=0.8167\n",
      "(2/8) 0.555seconds.\t For hyperparams: {'K': 2, 'dist_metric': 2, 'weighted': False}, score=0.8333\n",
      "(3/8) 0.545seconds.\t For hyperparams: {'K': 4, 'dist_metric': 1, 'weighted': False}, score=0.8167\n",
      "(4/8) 0.476seconds.\t For hyperparams: {'K': 4, 'dist_metric': 2, 'weighted': False}, score=0.8333\n",
      "(5/8) 0.553seconds.\t For hyperparams: {'K': 10, 'dist_metric': 1, 'weighted': False}, score=0.8167\n",
      "(6/8) 0.477seconds.\t For hyperparams: {'K': 10, 'dist_metric': 2, 'weighted': False}, score=0.8333\n",
      "(7/8) 0.549seconds.\t For hyperparams: {'K': 100, 'dist_metric': 1, 'weighted': False}, score=0.8167\n",
      "(8/8) 0.508seconds.\t For hyperparams: {'K': 100, 'dist_metric': 2, 'weighted': False}, score=0.8333\n"
     ]
    }
   ],
   "source": [
    "results = {}\n",
    "\n",
    "knn_clf = KNNClassifier() # passing the keyword arguments (**kwargs)\n",
    "\n",
    "for i, hyperparams in enumerate(param_combos, start=1):\n",
    "    start_time = time.time()\n",
    "    \n",
    "    knn_clf.set_params(**hyperparams) # set hyperparams\n",
    "    knn_clf.fit(trainx, trainy) # fit the data\n",
    "    pred = knn_clf.predict(valx) # predict\n",
    "    results[i] = {\n",
    "        'score': accuracy_score(valy, pred),\n",
    "        'time': time.time() - start_time,\n",
    "        'pred': pred,\n",
    "        'params': hyperparams\n",
    "    }\n",
    "    print('({}/{}) {:.3}seconds.\\t For hyperparams: {}, score={:.4}'.format(\n",
    "        i, len(param_combos), #progress\n",
    "        time.time() - start_time, # time\n",
    "        hyperparams, # hyperparams\n",
    "        results[i]['score'] # results dict\n",
    "    ))\n",
    "\n",
    "    # once we're done with checking those values, "
   ]
  },
  {
   "cell_type": "code",
   "execution_count": 129,
   "metadata": {},
   "outputs": [],
   "source": [
    "# sorting by highest score\n",
    "best_result = list(reversed(sorted(results.items(), key=lambda item: item[1]['score'])))[0][1]"
   ]
  },
  {
   "cell_type": "code",
   "execution_count": 130,
   "metadata": {},
   "outputs": [
    {
     "name": "stdout",
     "output_type": "stream",
     "text": [
      "best_params {'K': 100, 'dist_metric': 2, 'weighted': False}\n"
     ]
    }
   ],
   "source": [
    "best_params = best_result['params']\n",
    "print('best_params', best_params)"
   ]
  },
  {
   "cell_type": "markdown",
   "metadata": {},
   "source": [
    "#### Using Scikit learn's [GridSearchCV](https://scikit-learn.org/stable/modules/generated/sklearn.model_selection.GridSearchCV.html#sklearn.model_selection.GridSearchCV)\n",
    "\n",
    "`class sklearn.model_selection.GridSearchCV(estimator, param_grid, scoring=None, n_jobs=None, iid=’warn’, refit=True, cv=’warn’, verbose=0, pre_dispatch=‘2*n_jobs’, error_score=’raise-deprecating’, return_train_score=False)`"
   ]
  },
  {
   "cell_type": "code",
   "execution_count": 131,
   "metadata": {},
   "outputs": [],
   "source": [
    "# from sklearn.model_selection import GridSearchCV\n",
    "\n",
    "# knn_clf = KNNClassifier()\n",
    "# # GridSearchCV(estimator, param_grid, scoring=None, n_jobs=None, iid=’warn’, refit=True, cv=’warn’, verbose=0, pre_dispatch=‘2*n_jobs’, error_score=’raise-deprecating’, return_train_score=False)\n",
    "# gridSearchCV = GridSearchCV(knn_clf, param_grid, n_jobs=6, verbose=3)\n",
    "\n",
    "# gridSearchCV.fit(trainx, trainy)\n",
    "# # uses 3-fold cross validation"
   ]
  },
  {
   "cell_type": "code",
   "execution_count": 132,
   "metadata": {},
   "outputs": [],
   "source": [
    "# sorted(gridSearchCV.cv_results_.keys())"
   ]
  },
  {
   "cell_type": "code",
   "execution_count": 133,
   "metadata": {},
   "outputs": [],
   "source": [
    "# cv_clf.get_params()"
   ]
  },
  {
   "cell_type": "markdown",
   "metadata": {},
   "source": [
    "# 7. Test errors and the confusion matrix"
   ]
  },
  {
   "cell_type": "markdown",
   "metadata": {},
   "source": [
    "Once the hyper-parameters have been selected, we now would like to perform a final evaluation on the test set and record the error rates. Also, Write a function, **confusion**, which takes as input the true labels for the test set (that is, `testy`) as well as the predicted labels and returns the confusion matrix. The confusion matrix should be a `np.array` of shape `(10,10)`. Also, record the confusion matrix in your assignment report.\n",
    "\n",
    "**Note:** Record the cpu time it takes to perform the evaluation on the test set using functions like **time.time()**."
   ]
  },
  {
   "cell_type": "code",
   "execution_count": 121,
   "metadata": {},
   "outputs": [],
   "source": [
    "def confusion(testy, testy_fit):\n",
    "    # inputs: the correct labels, the fitted KNN labels \n",
    "    # output: a 10x10 np.array representing the confusion matrix as above\n",
    "    cm = np.zeros((10, 10))\n",
    "    #TODO:\n",
    "    for y, x in zip(range(cm.shape[0]), range(cm.shape[1])):\n",
    "        cm[x, y] = testy[x]\n",
    "        cm[y, x] = testy_fit[x]\n",
    "    return cm"
   ]
  },
  {
   "cell_type": "code",
   "execution_count": 122,
   "metadata": {},
   "outputs": [],
   "source": [
    "# code from: https://scikit-learn.org/stable/auto_examples/model_selection/plot_confusion_matrix.html\n",
    "\n",
    "from sklearn.model_selection import train_test_split\n",
    "from sklearn.metrics import confusion_matrix\n",
    "from sklearn.utils.multiclass import unique_labels\n",
    "\n",
    "def plot_confusion_matrix(y_true, y_pred, classes,\n",
    "                          normalize=False,\n",
    "                          title=None,\n",
    "                          cmap=plt.cm.Blues):\n",
    "    \"\"\"\n",
    "    This function prints and plots the confusion matrix.\n",
    "    Normalization can be applied by setting `normalize=True`.\n",
    "    \"\"\"\n",
    "    if not title:\n",
    "        if normalize:\n",
    "            title = 'Normalized confusion matrix'\n",
    "        else:\n",
    "            title = 'Confusion matrix, without normalization'\n",
    "\n",
    "    # Compute confusion matrix\n",
    "    cm = confusion_matrix(y_true, y_pred)\n",
    "    # Only use the labels that appear in the data\n",
    "    classes = classes[unique_labels(y_true, y_pred)]\n",
    "    if normalize:\n",
    "        cm = cm.astype('float') / cm.sum(axis=1)[:, np.newaxis]\n",
    "        print(\"Normalized confusion matrix\")\n",
    "    else:\n",
    "        print('Confusion matrix, without normalization')\n",
    "\n",
    "    print(cm)\n",
    "\n",
    "    fig, ax = plt.subplots()\n",
    "    im = ax.imshow(cm, interpolation='nearest', cmap=cmap)\n",
    "    ax.figure.colorbar(im, ax=ax)\n",
    "    # We want to show all ticks...\n",
    "    ax.set(xticks=np.arange(cm.shape[1]),\n",
    "           yticks=np.arange(cm.shape[0]),\n",
    "           # ... and label them with the respective list entries\n",
    "           xticklabels=classes, yticklabels=classes,\n",
    "           title=title,\n",
    "           ylabel='True label',\n",
    "           xlabel='Predicted label')\n",
    "\n",
    "    # Rotate the tick labels and set their alignment.\n",
    "    plt.setp(ax.get_xticklabels(), rotation=45, ha=\"right\",\n",
    "             rotation_mode=\"anchor\")\n",
    "\n",
    "    # Loop over data dimensions and create text annotations.\n",
    "    fmt = '.2f' if normalize else 'd'\n",
    "    thresh = cm.max() / 2.\n",
    "    for i in range(cm.shape[0]):\n",
    "        for j in range(cm.shape[1]):\n",
    "            ax.text(j, i, format(cm[i, j], fmt),\n",
    "                    ha=\"center\", va=\"center\",\n",
    "                    color=\"white\" if cm[i, j] > thresh else \"black\")\n",
    "    fig.tight_layout()\n",
    "    return ax"
   ]
  },
  {
   "cell_type": "code",
   "execution_count": 149,
   "metadata": {},
   "outputs": [],
   "source": [
    "# Code for performing the final evaluation on the test set and generating the confuson matrix.\n",
    "### START CODE HERE ###\n",
    "\n",
    "test_results = {}\n",
    "# NN_L2\n",
    "# What is the best error rate on the validation set for KNN_L2?\n",
    "# What is the error rate on the validation set for NN_L1?\n",
    "# What is the best error rate on the validation set for KNN_L1?\n",
    "\n",
    "funcs = ['NN_L2', 'KNN_L2', 'NN_L1', 'KNN_L1']\n",
    "\n",
    "for i, func_name in enumerate(funcs):\n",
    "    func = eval(func_name)\n",
    "    start_time = time.time()\n",
    "    pred = func(trainx, trainy, valx)\n",
    "    \n",
    "    score = accuracy_score(valy, pred)\n",
    "    test_results[i] = {\n",
    "        'name': func_name,\n",
    "        'score': score,\n",
    "        'error': 1 - score,\n",
    "        'time': time.time() - start_time,\n",
    "        'pred': pred\n",
    "    }\n",
    "\n",
    "### END CODE HERE ###"
   ]
  },
  {
   "cell_type": "code",
   "execution_count": 148,
   "metadata": {},
   "outputs": [],
   "source": [
    "import matplotlib.pyplot as plt\n",
    "\n",
    "#TODO:\n",
    "for i in test_results:\n",
    "    r = test_results[i]\n",
    "    plt.figure()\n",
    "    plt.title(r['name'])\n",
    "    \n",
    "    plt.plot()\n",
    "    plt.show()"
   ]
  },
  {
   "cell_type": "code",
   "execution_count": 176,
   "metadata": {},
   "outputs": [
    {
     "name": "stdout",
     "output_type": "stream",
     "text": [
      "Confusion matrix, without normalization\n",
      "[[ 6  0  0  1  0  0  0  1  0  0]\n",
      " [ 0 13  0  0  0  1  0  0  0  0]\n",
      " [ 0  1  4  0  0  0  0  1  2  0]\n",
      " [ 1  0  1  2  0  3  1  2  1  0]\n",
      " [ 1  0  0  1  4  3  0  5  0  0]\n",
      " [ 2  0  0  2  2  1  0  0  0  0]\n",
      " [ 0  1  0  0  0  2  4  2  1  0]\n",
      " [ 0  0  0  1  0  1  0 13  0  0]\n",
      " [ 0  0  1  0  0  0  1  0  0  0]\n",
      " [ 0  1  0  0  0  1  0  2  0  7]]\n"
     ]
    },
    {
     "data": {
      "text/plain": [
       "<matplotlib.axes._subplots.AxesSubplot at 0x24b08f7b2b0>"
      ]
     },
     "execution_count": 176,
     "metadata": {},
     "output_type": "execute_result"
    },
    {
     "data": {
      "image/png": "[encoded data removed]",
      "text/plain": [
       "<Figure size 432x288 with 2 Axes>"
      ]
     },
     "metadata": {
      "needs_background": "light"
     },
     "output_type": "display_data"
    }
   ],
   "source": [
    "# testing training:\n",
    "# trainx, valx, trainy, valy\n",
    "y_pred = KNN(train_data, train_labels, test_data, K=10, dist_metric=float('inf'))\n",
    "accuracy_score(test_labels, y_pred)\n",
    "plot_confusion_matrix(test_labels, y_pred, np.array([0,1,2,3,4,5,6,7,8,9]))"
   ]
  },
  {
   "cell_type": "markdown",
   "metadata": {},
   "source": [
    "## 8. Faster nearest neighbor methods"
   ]
  },
  {
   "cell_type": "markdown",
   "metadata": {},
   "source": [
    "Performing nearest neighbor classification in the way we have presented requires a full pass through the training set in order to classify a single point. If there are $N$ training points in $\\mathbb{R}^d$, this takes $O(N d)$ time.\n",
    "\n",
    "Fortunately, there are faster methods to perform nearest neighbor look up if we are willing to spend some time preprocessing the training set. `scikit-learn` has fast implementations of two useful nearest neighbor data structures: the _ball tree_ and the _k-d tree_. Study the KDTree and use it to make KNN predictions.\n",
    "- [ ] Record the error rates on the test set and the cpu time taken for evaluation.\n",
    "\n",
    "**Note:** Here you don't have to implement teh KDTree but just you need to use it from ``sklearn`` library.\n",
    "\n",
    "Documentation [here](https://scikit-learn.org/stable/modules/generated/sklearn.neighbors.KDTree.html)"
   ]
  },
  {
   "cell_type": "code",
   "execution_count": 169,
   "metadata": {
    "scrolled": true
   },
   "outputs": [
    {
     "name": "stdout",
     "output_type": "stream",
     "text": [
      "predictions: \n",
      "[4 9 6 1 3 3 3 8 1 7 9 0 1 1 4 0 3 7 1 3 4 1 1 0 8 8 1 3 1 5 9 4 2 4 0 0 1\n",
      " 2 9 4 9 7 6 2 1 3 0 1 0 3 8 1 7 2 2 9 0 6 1 9 2 4 4 6 2 1 3 9 0 8 4 1 9 9\n",
      " 0 5 8 6 8 4 6 7 6 3 6 6 6 6 1 0 3 2 4 1 5 9 4 5 9 6 6 1 1 5 7 4 9 3 7 6 2\n",
      " 0 8 4 7 0 9 9 0 8]\n",
      "Actual:\n",
      "[9 9 6 1 3 5 3 8 1 7 8 0 2 2 4 0 3 7 1 3 4 1 1 0 8 8 1 3 1 5 9 4 2 4 0 0 5\n",
      " 2 9 4 9 7 6 2 1 5 0 1 0 3 8 1 7 2 2 3 0 6 8 9 2 9 4 6 2 1 3 9 0 5 9 1 9 9\n",
      " 0 5 8 6 8 2 6 7 6 3 6 6 6 6 7 0 3 3 4 8 5 9 3 5 4 6 6 1 1 5 7 9 7 3 2 4 2\n",
      " 0 8 2 7 0 7 7 6 8]\n",
      "score: 0.7833333333333333\n"
     ]
    }
   ],
   "source": [
    "from sklearn.neighbors import KDTree\n",
    "### START CODE HERE ###\n",
    "np.set_printoptions(threshold=np.inf)\n",
    "\n",
    "tree = KDTree(trainx)\n",
    "dist, indx = tree.query(valx, k=5)\n",
    "print(indx)\n",
    "# print(dist)\n",
    "x_result = np.zeros(len(valx)) # for saving the most frequent data point obtained from indx[]\n",
    "y_result = np.zeros(len(valx)) # for saving the prediction\n",
    "for i, x in enumerate(indx):\n",
    "    x_result[i] =  int (np.bincount(x).argmax()) # saving the most frequent data point\n",
    "    y_result[i] = trainy[ int (x_result[i])] # saving the corresponding label\n",
    "\n",
    "y_result = y_result.astype(int)\n",
    "\n",
    "print(\"predictions: \")\n",
    "print(y_result)\n",
    "print(\"Actual:\")\n",
    "print(valy)\n",
    "\n",
    "print('score:', accuracy_score(y_result, valy))\n",
    "\n",
    "### END CODE HERE ###"
   ]
  },
  {
   "cell_type": "markdown",
   "metadata": {},
   "source": [
    "## 9. Preparing the assignment report"
   ]
  },
  {
   "cell_type": "markdown",
   "metadata": {},
   "source": [
    "You need to prepare the assignment report and submit your code and report to the Blackboard assignment. You need to record your answers for the following questions in the report:\n",
    "1. What is the error rate on the validation set for NN_L2?\n",
    "2. What is the best error rate on the validation set for KNN_L2?\n",
    "3. What is the error rate on the validation set for NN_L1?\n",
    "4. What is the best error rate on the validation set for KNN_L1?\n",
    "5. What is the error rate on the test set?\n",
    "6. Which digit class has the most errorrs? And, with which class does it get the most confused? Do you have ideas to fix this problem?\n"
   ]
  },
  {
   "cell_type": "markdown",
   "metadata": {},
   "source": [
    "#### 9. Answer\n",
    "usually predicts 9 when the actual value is 7, it also tends to confuse 0 with 2"
   ]
  },
  {
   "cell_type": "markdown",
   "metadata": {},
   "source": [
    "## 10. Extra Stuff"
   ]
  },
  {
   "cell_type": "markdown",
   "metadata": {},
   "source": [
    "You are invited to try some more ideas as extra work like:\n",
    "- [x] Implementing weighted KNN where the vote of a neighbour is scaled down based on its distance from the test point.\n",
    "- [x] Implement L_infinity distance measure and use it for classification.\n",
    "- [ ] Instead of using the pixels as features, implement your own features (example: what were presented in the slides) and use them for KNN. You need to keep in mind that if you compute features which have different scales then it is important to scale/normalize the features (discussed in the slides)."
   ]
  },
  {
   "cell_type": "markdown",
   "metadata": {},
   "source": [
    "### Trying new features\n",
    "Here we go trying new features, let's try to sum up the number of pixels in the column vectors of the images.\n",
    "\n",
    "\n",
    "Then we subtract the corresponding column counts."
   ]
  },
  {
   "cell_type": "code",
   "execution_count": 179,
   "metadata": {},
   "outputs": [
    {
     "name": "stdout",
     "output_type": "stream",
     "text": [
      "Confusion matrix, without normalization\n",
      "[[ 8  0  0  0  0  0  0  0  0  0]\n",
      " [14  0  0  0  0  0  0  0  0  0]\n",
      " [ 8  0  0  0  0  0  0  0  0  0]\n",
      " [11  0  0  0  0  0  0  0  0  0]\n",
      " [14  0  0  0  0  0  0  0  0  0]\n",
      " [ 7  0  0  0  0  0  0  0  0  0]\n",
      " [10  0  0  0  0  0  0  0  0  0]\n",
      " [15  0  0  0  0  0  0  0  0  0]\n",
      " [ 2  0  0  0  0  0  0  0  0  0]\n",
      " [11  0  0  0  0  0  0  0  0  0]]\n"
     ]
    },
    {
     "data": {
      "text/plain": [
       "<matplotlib.axes._subplots.AxesSubplot at 0x24b08a34160>"
      ]
     },
     "execution_count": 179,
     "metadata": {},
     "output_type": "execute_result"
    },
    {
     "data": {
      "image/png": "[encoded data removed]",
      "text/plain": [
       "<Figure size 432x288 with 2 Axes>"
      ]
     },
     "metadata": {
      "needs_background": "light"
     },
     "output_type": "display_data"
    }
   ],
   "source": [
    "# testing training:\n",
    "# trainx, valx, trainy, valy\n",
    "def custom_feature_distance(a, b, **kwargs):\n",
    "    # counting the horizontal lines, and passing the number of white pixels as the distance\n",
    "    a_sum = [sum(col) for col in a.reshape(28, 28)]\n",
    "    b_sum = [sum(col) for col in b.reshape(28, 28)]\n",
    "    return sum(np.subtract(a_sum, b_sum))\n",
    "\n",
    "y_pred = KNN(train_data, train_labels, test_data, K=10, dist_metric=custom_feature_distance)\n",
    "accuracy_score(test_labels, y_pred)\n",
    "plot_confusion_matrix(test_labels, y_pred, np.array([0,1,2,3,4,5,6,7,8,9]))"
   ]
  },
  {
   "cell_type": "markdown",
   "metadata": {},
   "source": [
    "#### Conclusion\n",
    "This is a horrible feature, don't do it"
   ]
  },
  {
   "cell_type": "code",
   "execution_count": 180,
   "metadata": {},
   "outputs": [],
   "source": [
    "def L_infinity(a,b):\n",
    "    return  #TODO:"
   ]
  },
  {
   "cell_type": "code",
   "execution_count": null,
   "metadata": {},
   "outputs": [],
   "source": []
  }
 ],
 "metadata": {
  "kernelspec": {
   "display_name": "Python 3",
   "language": "python",
   "name": "python3"
  },
  "language_info": {
   "codemirror_mode": {
    "name": "ipython",
    "version": 3
   },
   "file_extension": ".py",
   "mimetype": "text/x-python",
   "name": "python",
   "nbconvert_exporter": "python",
   "pygments_lexer": "ipython3",
   "version": "3.7.4"
  }
 },
 "nbformat": 4,
 "nbformat_minor": 2
}
