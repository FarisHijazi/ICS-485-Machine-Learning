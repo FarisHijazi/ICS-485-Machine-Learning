{
  "nbformat": 4,
  "nbformat_minor": 0,
  "metadata": {
    "colab": {
      "name": "KNN mnist from scratch.ipynb",
      "provenance": [],
      "collapsed_sections": []
    },
    "kernelspec": {
      "name": "python3",
      "display_name": "Python 3"
    }
  },
  "cells": [
    {
      "cell_type": "markdown",
      "metadata": {
        "id": "t6OTfFkudRIA",
        "colab_type": "text"
      },
      "source": [
        "# ICS485 ProgAss1\n",
        "\n",
        "- [x] Create basic NearestNeighbor\n",
        "- [x] Create KNN\n",
        "- [ ] Use validation set\n",
        "- [ ] Use KDTree\n",
        "- [ ] Make some features"
      ]
    },
    {
      "cell_type": "code",
      "metadata": {
        "id": "dTFc5kVefJEy",
        "colab_type": "code",
        "colab": {}
      },
      "source": [
        "import tensorflow as tf\n",
        "import numpy as np\n",
        "import collections\n"
      ],
      "execution_count": 0,
      "outputs": []
    },
    {
      "cell_type": "code",
      "metadata": {
        "id": "70mZUE-41-L4",
        "colab_type": "code",
        "colab": {}
      },
      "source": [
        "N = 60000 #@param {type: \"slider\", min: 100, max: 60000, step: 50}"
      ],
      "execution_count": 0,
      "outputs": []
    },
    {
      "cell_type": "code",
      "metadata": {
        "id": "5VdLLeN4eVIh",
        "colab_type": "code",
        "outputId": "f3f4c857-ac4c-4d4f-ce56-dc6e258f2e6d",
        "colab": {
          "base_uri": "https://localhost:8080/",
          "height": 50
        }
      },
      "source": [
        "mnist = tf.keras.datasets.mnist\n",
        "\n",
        "(x_train, y_train), (x_test, y_test) = mnist.load_data()\n",
        "x_train, y_train = x_train[:N], y_train[:N]\n",
        "x_test, y_test = x_test, y_test\n",
        "# x_train, x_test = x_train / 255.0, x_test / 255.0"
      ],
      "execution_count": 0,
      "outputs": [
        {
          "output_type": "stream",
          "text": [
            "Downloading data from https://storage.googleapis.com/tensorflow/tf-keras-datasets/mnist.npz\n",
            "11493376/11490434 [==============================] - 0s 0us/step\n"
          ],
          "name": "stdout"
        }
      ]
    },
    {
      "cell_type": "markdown",
      "metadata": {
        "id": "HbtyXskvgAWR",
        "colab_type": "text"
      },
      "source": [
        "## Algorithm\n",
        "\n",
        "```\n",
        "algorithm knn(test, , n=5):\n",
        "\n",
        "```"
      ]
    },
    {
      "cell_type": "code",
      "metadata": {
        "id": "aiyeIB9Pmbjz",
        "colab_type": "code",
        "colab": {}
      },
      "source": [
        "def euclidean_dist(a, b):\n",
        "    return np.linalg.norm(np.subtract(a, b))"
      ],
      "execution_count": 0,
      "outputs": []
    },
    {
      "cell_type": "code",
      "metadata": {
        "id": "WQvqn7ZVeejI",
        "colab_type": "code",
        "colab": {}
      },
      "source": [
        "# class FeatureMapper:"
      ],
      "execution_count": 0,
      "outputs": []
    },
    {
      "cell_type": "code",
      "metadata": {
        "id": "5ai-1TzFlEfm",
        "colab_type": "code",
        "colab": {}
      },
      "source": [
        "class KNNClassifier():\n",
        "    def __init__(self):\n",
        "        self.__X_train = []\n",
        "        self.__Y_train = []\n",
        "\n",
        "    def fit(self, X_train, Y_train):\n",
        "        self.__X_train = X_train\n",
        "        self.__Y_train = Y_train\n",
        "        return self\n",
        "\n",
        "    def predict(self, x_test, k=1, dist=euclidean_dist, weighted=False) -> list:\n",
        "        \"\"\"\n",
        "        @param x_test - a single entry, not a vector of Xs\n",
        "        @param k - \n",
        "        @param dist - distance function\n",
        "        @param weighted\n",
        "\n",
        "        @returns the Y values\n",
        "        \"\"\"\n",
        "\n",
        "        distances = [dist(x_test, x) for x in self.__X_train]\n",
        "\n",
        "        # index list of shortest distances\n",
        "        k_indexes = np.argsort(distances, axis=0)[:k]\n",
        "\n",
        "\n",
        "        if not weighted:\n",
        "            Ys = self.__Y_train[k_indexes]\n",
        "            print(\"potential results:\", Ys)\n",
        "            # sorted list of item frequency\n",
        "            return sorted(Ys, key=collections.Counter(Ys).get, reverse=True)[0]\n",
        "\n",
        "        # else if not weighted:\n",
        "\n",
        "        print(\"potential Ys (before merging):\", self.__Y_train[k_indexes])\n",
        "\n",
        "        # create a dict with each key as a `y` and value as voting score (and we occumulate)\n",
        "        d = {} # contains {y: summed_score}\n",
        "        for k_i in k_indexes: # accumulating the sum\n",
        "            y = self.__Y_train[k_i]\n",
        "            if not y in d: # initialize with 0\n",
        "                d[y] = 0.000001\n",
        "            d[y] += distances[k_i] #TODO: this can be changed\n",
        "\n",
        "        print(\"potential Ys:\", list(d.keys()))\n",
        "\n",
        "        # then we sort the values and find the class with the highest score\n",
        "        # https://stackoverflow.com/a/613218/7771202\n",
        "        # returns a list of tuples sorted by the second element (the distance)\n",
        "        sorted_values = sorted(d.items(), key=lambda kv: kv[1])\n",
        "        print('sorted_values', list(sorted_values))\n",
        "\n",
        "        return sorted_values[0][0]\n",
        "\n"
      ],
      "execution_count": 0,
      "outputs": []
    },
    {
      "cell_type": "code",
      "metadata": {
        "id": "nMk78fVB2mpk",
        "colab_type": "code",
        "colab": {}
      },
      "source": [
        "clf = KNNClassifier().fit(x_train, y_train)"
      ],
      "execution_count": 0,
      "outputs": []
    },
    {
      "cell_type": "code",
      "metadata": {
        "id": "OR0QbBvepUHi",
        "colab_type": "code",
        "outputId": "24db7fbc-6003-49bf-baa2-eee280396817",
        "colab": {
          "base_uri": "https://localhost:8080/",
          "height": 84
        }
      },
      "source": [
        "test_idx = 10\n",
        "prediction = clf.predict(x_test[test_idx], k=3, weighted=True)\n",
        "print(\"actual solution: {}, prediction: {}\".format(y_test[test_idx], prediction))"
      ],
      "execution_count": 0,
      "outputs": [
        {
          "output_type": "stream",
          "text": [
            "potential Ys (before merging): [0 0 0]\n",
            "potential Ys: [0]\n",
            "sorted_values [(0, 5375.545988949744)]\n",
            "actual solution: 0, prediction: 0\n"
          ],
          "name": "stdout"
        }
      ]
    },
    {
      "cell_type": "markdown",
      "metadata": {
        "id": "I3EC7mBT7KE7",
        "colab_type": "text"
      },
      "source": [
        "## Testing"
      ]
    },
    {
      "cell_type": "code",
      "metadata": {
        "id": "wsp7vtL77K3i",
        "colab_type": "code",
        "outputId": "31907dc0-bdc4-4ae5-b1fe-ff369fe4e9ae",
        "colab": {
          "base_uri": "https://localhost:8080/",
          "height": 128
        }
      },
      "source": [
        "from sklearn.metrics import "
      ],
      "execution_count": 0,
      "outputs": [
        {
          "output_type": "error",
          "ename": "SyntaxError",
          "evalue": "ignored",
          "traceback": [
            "\u001b[0;36m  File \u001b[0;32m\"<ipython-input-9-f83adfeb5910>\"\u001b[0;36m, line \u001b[0;32m1\u001b[0m\n\u001b[0;31m    from sklearn.metrics import\u001b[0m\n\u001b[0m                                ^\u001b[0m\n\u001b[0;31mSyntaxError\u001b[0m\u001b[0;31m:\u001b[0m invalid syntax\n"
          ]
        }
      ]
    },
    {
      "cell_type": "code",
      "metadata": {
        "id": "b57TCoG2tCDK",
        "colab_type": "code",
        "colab": {}
      },
      "source": [
        ""
      ],
      "execution_count": 0,
      "outputs": []
    }
  ]
}